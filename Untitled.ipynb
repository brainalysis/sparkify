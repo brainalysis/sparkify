{
 "cells": [
  {
   "cell_type": "code",
   "execution_count": 1,
   "id": "8e2b7568-a569-48be-89ec-28bd003dd61e",
   "metadata": {},
   "outputs": [
    {
     "name": "stderr",
     "output_type": "stream",
     "text": [
      "WARNING:root:'PYARROW_IGNORE_TIMEZONE' environment variable was not set. It is required to set this environment variable to '1' in both driver and executor sides if you use pyarrow>=2.0.0. pandas-on-Spark will set it for you but it does not work if there is a Spark context already launched.\n"
     ]
    }
   ],
   "source": [
    "from typing import List\n",
    "# from databricks import koalas as ks , we do not neven need koalsa, because it is now built in with databricks\n",
    "import pyspark.pandas as ps\n",
    "from pyspark.sql import DataFrame as SparkDataFrame\n",
    "\n",
    "from pyspark.ml.feature import VectorAssembler,VectorIndexer,OneHotEncoder,StringIndexer\n",
    "from pyspark.ml import Pipeline "
   ]
  },
  {
   "cell_type": "code",
   "execution_count": 2,
   "id": "9b8ed131-f16c-43a9-ba98-355454cddc45",
   "metadata": {},
   "outputs": [],
   "source": [
    "from SparkAutoML.ml_module.preprocessing_module.preprocess_file import Preprocessor\n",
    "from pyspark.sql.types import DoubleType"
   ]
  },
  {
   "cell_type": "code",
   "execution_count": 3,
   "id": "f4833e73-659f-4482-9831-b3732e7e9ce7",
   "metadata": {},
   "outputs": [],
   "source": [
    "t = ps.DataFrame(dict(col_a=[1,2,3,4],col_b=[.24,.56,.12,.39],label=[1,0,0,1])).to_spark()\n",
    "h = ps.DataFrame(dict(col_a=[1,2,3,4],col_b=[.24,.56,.12,.39],label=[1,0,0,1])).to_spark()\n",
    "u = ps.DataFrame(dict(col_a=[1,2,3,4],col_b=[.24,.56,.12,.39],)).to_spark()"
   ]
  },
  {
   "cell_type": "code",
   "execution_count": 4,
   "id": "b14cdc26-1d2f-4079-adb5-1cf7f1e25902",
   "metadata": {},
   "outputs": [
    {
     "name": "stdout",
     "output_type": "stream",
     "text": [
      "+-----+-----+-----+\n",
      "|col_a|col_b|label|\n",
      "+-----+-----+-----+\n",
      "|    1| 0.24|    1|\n",
      "|    2| 0.56|    0|\n",
      "|    3| 0.12|    0|\n",
      "|    4| 0.39|    1|\n",
      "+-----+-----+-----+\n",
      "\n"
     ]
    }
   ],
   "source": [
    "t.show()"
   ]
  },
  {
   "cell_type": "code",
   "execution_count": 5,
   "id": "7088c042-b2f2-43ad-a2b4-8e15657790b2",
   "metadata": {},
   "outputs": [
    {
     "name": "stdout",
     "output_type": "stream",
     "text": [
      "<class 'pyspark.sql.dataframe.DataFrame'>\n",
      "<class 'pyspark.sql.dataframe.DataFrame'>\n",
      "+-----+-----+-----+----------+\n",
      "|col_a|col_b|label|  features|\n",
      "+-----+-----+-----+----------+\n",
      "|    1| 0.24|  1.0|[1.0,0.24]|\n",
      "|    2| 0.56|  0.0|[2.0,0.56]|\n",
      "|    3| 0.12|  0.0|[3.0,0.12]|\n",
      "|    4| 0.39|  1.0|[4.0,0.39]|\n",
      "+-----+-----+-----+----------+\n",
      "\n"
     ]
    }
   ],
   "source": [
    "p = Preprocessor(training_data=t,hold_out_data=h,target_feature='label',numeric_features=['col_a','col_b'],categorical_features=None)\n",
    "p.run_pipeline()\n",
    "p.fit_transform()\n",
    "p.train_data_transformed.show()"
   ]
  },
  {
   "cell_type": "code",
   "execution_count": 20,
   "id": "5fabede5-5283-4438-a08e-e428a305d261",
   "metadata": {},
   "outputs": [
    {
     "name": "stdout",
     "output_type": "stream",
     "text": [
      "+-----+-----+-----+----------+\n",
      "|col_a|col_b|label|  features|\n",
      "+-----+-----+-----+----------+\n",
      "|    1| 0.24|  1.0|[1.0,0.24]|\n",
      "|    2| 0.56|  0.0|[2.0,0.56]|\n",
      "|    3| 0.12|  0.0|[3.0,0.12]|\n",
      "|    4| 0.39|  1.0|[4.0,0.39]|\n",
      "+-----+-----+-----+----------+\n",
      "\n"
     ]
    }
   ],
   "source": [
    "p.transform()\n",
    "p.hold_out_data_transformed.show()"
   ]
  },
  {
   "cell_type": "code",
   "execution_count": 6,
   "id": "14c69881-65b0-4eae-a1be-91d21da501ba",
   "metadata": {},
   "outputs": [
    {
     "name": "stdout",
     "output_type": "stream",
     "text": [
      "+-----+-----+----------+\n",
      "|col_a|col_b|  features|\n",
      "+-----+-----+----------+\n",
      "|    1| 0.24|[1.0,0.24]|\n",
      "|    2| 0.56|[2.0,0.56]|\n",
      "|    3| 0.12|[3.0,0.12]|\n",
      "|    4| 0.39|[4.0,0.39]|\n",
      "+-----+-----+----------+\n",
      "\n"
     ]
    }
   ],
   "source": [
    "p.fitted_pipeline.transform(u).show()"
   ]
  },
  {
   "cell_type": "code",
   "execution_count": 2,
   "id": "e07e151a-dcae-454b-9809-18a2322c8430",
   "metadata": {},
   "outputs": [],
   "source": [
    "# read data \n",
    "df = ps.read_csv(\"credit.csv\")"
   ]
  },
  {
   "cell_type": "code",
   "execution_count": 3,
   "id": "1eca9b8b-5dbd-4cd8-b961-71f8c6284cab",
   "metadata": {},
   "outputs": [
    {
     "data": {
      "text/plain": [
       "Index(['LIMIT_BAL', 'SEX', 'EDUCATION', 'MARRIAGE', 'AGE', 'PAY_1', 'PAY_2',\n",
       "       'PAY_3', 'PAY_4', 'PAY_5', 'PAY_6', 'BILL_AMT1', 'BILL_AMT2',\n",
       "       'BILL_AMT3', 'BILL_AMT4', 'BILL_AMT5', 'BILL_AMT6', 'PAY_AMT1',\n",
       "       'PAY_AMT2', 'PAY_AMT3', 'PAY_AMT4', 'PAY_AMT5', 'PAY_AMT6', 'default'],\n",
       "      dtype='object')"
      ]
     },
     "execution_count": 3,
     "metadata": {},
     "output_type": "execute_result"
    }
   ],
   "source": [
    "df.columns"
   ]
  },
  {
   "cell_type": "code",
   "execution_count": 4,
   "id": "cd56852e-d2e5-462c-b991-91a8fcd1c0f9",
   "metadata": {},
   "outputs": [],
   "source": [
    "#def bool_function(df:ks.DataFrame)->ks.DataFrame:\n",
    "def bool_function(df):\n",
    "  df =ps.sql(\"\"\"select *,\n",
    "  case when mean_bal > 50000 then 1 else 0 end as new_bol_sql\n",
    "  from {df}\"\"\")\n",
    "  return df"
   ]
  },
  {
   "cell_type": "code",
   "execution_count": 5,
   "id": "48b59b38-7b1a-4b74-a45f-dbee2d5a8842",
   "metadata": {},
   "outputs": [],
   "source": [
    "# that is how you can apply the full stack piping in koalas\n",
    "df= (\n",
    "df\n",
    "[['LIMIT_BAL', 'SEX', 'EDUCATION', 'MARRIAGE', 'AGE','default']]\n",
    ".pipe(lambda x: ps.sql(\"\"\" select * , case when LIMIT_BAL < 100000 then 'low' when LIMIT_BAL between 100000 and 200000 then 'medium' else 'high' end as BAL_CAT from {x}\"\"\"))\n",
    ".pipe(lambda x: ps.sql(\"\"\" select * , case when AGE < 30 then 'youth' when AGE between 30 and 40 then 'yong' else 'mature' end as maturity from {x}\"\"\"))\n",
    ")"
   ]
  },
  {
   "cell_type": "code",
   "execution_count": 6,
   "id": "c93721e1-b45c-4706-9857-6dd73ef61429",
   "metadata": {},
   "outputs": [
    {
     "data": {
      "text/html": [
       "<div>\n",
       "<style scoped>\n",
       "    .dataframe tbody tr th:only-of-type {\n",
       "        vertical-align: middle;\n",
       "    }\n",
       "\n",
       "    .dataframe tbody tr th {\n",
       "        vertical-align: top;\n",
       "    }\n",
       "\n",
       "    .dataframe thead th {\n",
       "        text-align: right;\n",
       "    }\n",
       "</style>\n",
       "<table border=\"1\" class=\"dataframe\">\n",
       "  <thead>\n",
       "    <tr style=\"text-align: right;\">\n",
       "      <th></th>\n",
       "      <th>LIMIT_BAL</th>\n",
       "      <th>SEX</th>\n",
       "      <th>EDUCATION</th>\n",
       "      <th>MARRIAGE</th>\n",
       "      <th>AGE</th>\n",
       "      <th>default</th>\n",
       "      <th>BAL_CAT</th>\n",
       "      <th>maturity</th>\n",
       "    </tr>\n",
       "  </thead>\n",
       "  <tbody>\n",
       "    <tr>\n",
       "      <th>0</th>\n",
       "      <td>20000</td>\n",
       "      <td>2</td>\n",
       "      <td>2</td>\n",
       "      <td>1</td>\n",
       "      <td>24</td>\n",
       "      <td>1</td>\n",
       "      <td>low</td>\n",
       "      <td>youth</td>\n",
       "    </tr>\n",
       "    <tr>\n",
       "      <th>1</th>\n",
       "      <td>90000</td>\n",
       "      <td>2</td>\n",
       "      <td>2</td>\n",
       "      <td>2</td>\n",
       "      <td>34</td>\n",
       "      <td>0</td>\n",
       "      <td>low</td>\n",
       "      <td>yong</td>\n",
       "    </tr>\n",
       "    <tr>\n",
       "      <th>2</th>\n",
       "      <td>50000</td>\n",
       "      <td>2</td>\n",
       "      <td>2</td>\n",
       "      <td>1</td>\n",
       "      <td>37</td>\n",
       "      <td>0</td>\n",
       "      <td>low</td>\n",
       "      <td>yong</td>\n",
       "    </tr>\n",
       "    <tr>\n",
       "      <th>3</th>\n",
       "      <td>50000</td>\n",
       "      <td>1</td>\n",
       "      <td>2</td>\n",
       "      <td>1</td>\n",
       "      <td>57</td>\n",
       "      <td>0</td>\n",
       "      <td>low</td>\n",
       "      <td>mature</td>\n",
       "    </tr>\n",
       "    <tr>\n",
       "      <th>4</th>\n",
       "      <td>50000</td>\n",
       "      <td>1</td>\n",
       "      <td>1</td>\n",
       "      <td>2</td>\n",
       "      <td>37</td>\n",
       "      <td>0</td>\n",
       "      <td>low</td>\n",
       "      <td>yong</td>\n",
       "    </tr>\n",
       "  </tbody>\n",
       "</table>\n",
       "</div>"
      ],
      "text/plain": [
       "   LIMIT_BAL  SEX  EDUCATION  MARRIAGE  AGE  default BAL_CAT maturity\n",
       "0      20000    2          2         1   24        1     low    youth\n",
       "1      90000    2          2         2   34        0     low     yong\n",
       "2      50000    2          2         1   37        0     low     yong\n",
       "3      50000    1          2         1   57        0     low   mature\n",
       "4      50000    1          1         2   37        0     low     yong"
      ]
     },
     "execution_count": 6,
     "metadata": {},
     "output_type": "execute_result"
    }
   ],
   "source": [
    "df.head()"
   ]
  },
  {
   "cell_type": "code",
   "execution_count": 7,
   "id": "145e0d8c-a169-4236-98b4-ea2f224681e3",
   "metadata": {},
   "outputs": [],
   "source": [
    "spark_df = df.to_spark()\n",
    "train,test = spark_df.randomSplit([.70,.30],seed=123)"
   ]
  },
  {
   "cell_type": "code",
   "execution_count": 8,
   "id": "194a624b-c8ad-47ba-b1ef-0799e5386d77",
   "metadata": {},
   "outputs": [],
   "source": [
    "# pipe = Preprocessor(training_data=train\n",
    "#                      ,hold_out_data=test,\n",
    "#                      target_feature='default',\n",
    "#                      numeric_features= ['LIMIT_BAL',],\n",
    "#                      categorical_features=[\"BAL_CAT\",\"maturity\"],\n",
    "#                      impute_missing_values=True, missing_value_strategy=\"mean\",\n",
    "#                       )"
   ]
  },
  {
   "cell_type": "code",
   "execution_count": 9,
   "id": "11fabe40-3740-4d42-98d6-8e503db6faf5",
   "metadata": {},
   "outputs": [],
   "source": [
    "unseen = test.drop(\"default\")"
   ]
  },
  {
   "cell_type": "code",
   "execution_count": 10,
   "id": "9bb44cb0-6dc0-4109-87bc-50f1d1506c15",
   "metadata": {},
   "outputs": [],
   "source": [
    "# pipe.train_data_transformed.show()"
   ]
  },
  {
   "cell_type": "code",
   "execution_count": 11,
   "id": "071a759e-7fa4-42ef-8090-cc53adf4b598",
   "metadata": {},
   "outputs": [],
   "source": [
    "from SparkAutoML.ml_module.BinaryClassifier_module.classifier_file import BClassifier"
   ]
  },
  {
   "cell_type": "code",
   "execution_count": 12,
   "id": "44d39229-b2a1-4c84-a38d-3e95e259b46b",
   "metadata": {},
   "outputs": [],
   "source": [
    "cf = BClassifier(\n",
    "                     training_data=train, # provide training data\n",
    "                     hold_out_data=test, # provide hold out data\n",
    "                     target_feature='default', # provide target label\n",
    "                     numeric_features= ['LIMIT_BAL'], # identify numeric features\n",
    "                     categorical_features=[\"BAL_CAT\",\"maturity\"], # identify categorical \n",
    "                     impute_missing_values=False, missing_value_strategy=\"mean\",\n",
    "                    )"
   ]
  },
  {
   "cell_type": "code",
   "execution_count": 13,
   "id": "fca49b56-1c69-4e4c-9d72-f15c01d280c2",
   "metadata": {},
   "outputs": [
    {
     "name": "stdout",
     "output_type": "stream",
     "text": [
      "Training started for lrc ....\n",
      "Training successfully ended for lrc ....\n"
     ]
    }
   ],
   "source": [
    "cf.create_model('lrc') # you can check the features by claiing cf.hold_out_data_transformed.select(\"features\").show()\n",
    "# cf.create_model('rfc')"
   ]
  },
  {
   "cell_type": "code",
   "execution_count": 14,
   "id": "d0ccb23a-9a79-4fc9-ab08-0b780bfcddf5",
   "metadata": {},
   "outputs": [
    {
     "data": {
      "text/html": [
       "<div>\n",
       "<style scoped>\n",
       "    .dataframe tbody tr th:only-of-type {\n",
       "        vertical-align: middle;\n",
       "    }\n",
       "\n",
       "    .dataframe tbody tr th {\n",
       "        vertical-align: top;\n",
       "    }\n",
       "\n",
       "    .dataframe thead th {\n",
       "        text-align: right;\n",
       "    }\n",
       "</style>\n",
       "<table border=\"1\" class=\"dataframe\">\n",
       "  <thead>\n",
       "    <tr style=\"text-align: right;\">\n",
       "      <th></th>\n",
       "      <th>model</th>\n",
       "      <th>type</th>\n",
       "      <th>auc</th>\n",
       "      <th>accuracy</th>\n",
       "      <th>weighted_precision</th>\n",
       "      <th>weighted_recall</th>\n",
       "      <th>f1</th>\n",
       "    </tr>\n",
       "  </thead>\n",
       "  <tbody>\n",
       "    <tr>\n",
       "      <th>0</th>\n",
       "      <td>lrc</td>\n",
       "      <td>hold_out</td>\n",
       "      <td>0.611009</td>\n",
       "      <td>0.784099</td>\n",
       "      <td>1.0</td>\n",
       "      <td>0.784099</td>\n",
       "      <td>0.878986</td>\n",
       "    </tr>\n",
       "  </tbody>\n",
       "</table>\n",
       "</div>"
      ],
      "text/plain": [
       "  model      type       auc  accuracy  weighted_precision  weighted_recall        f1\n",
       "0   lrc  hold_out  0.611009  0.784099                 1.0         0.784099  0.878986"
      ]
     },
     "execution_count": 14,
     "metadata": {},
     "output_type": "execute_result"
    }
   ],
   "source": [
    "cf.evaluate_model('hold_out')"
   ]
  },
  {
   "cell_type": "code",
   "execution_count": 16,
   "id": "8f69586e-eaee-4522-b6b1-400959fe3a95",
   "metadata": {},
   "outputs": [
    {
     "name": "stdout",
     "output_type": "stream",
     "text": [
      "+---------+---+---------+--------+---+-------+--------+-------------+--------------+--------------------+---------------------+--------------------+--------------------+--------------------+----------+\n",
      "|LIMIT_BAL|SEX|EDUCATION|MARRIAGE|AGE|BAL_CAT|maturity|BAL_CAT_index|maturity_index|BAL_CAT_index_onehot|maturity_index_onehot|            features|       rawPrediction|         probability|prediction|\n",
      "+---------+---+---------+--------+---+-------+--------+-------------+--------------+--------------------+---------------------+--------------------+--------------------+--------------------+----------+\n",
      "|    10000|  1|        1|       1| 41|    low|  mature|          0.0|           2.0|       (3,[0],[1.0])|        (3,[2],[1.0])|(7,[0,1,6],[10000...|[0.61395851869453...|[0.64884326402637...|       0.0|\n",
      "|    10000|  1|        1|       2| 22|    low|   youth|          0.0|           1.0|       (3,[0],[1.0])|        (3,[1],[1.0])|(7,[0,1,5],[10000...|[0.81962285602731...|[0.69415627704649...|       0.0|\n",
      "|    10000|  1|        1|       2| 23|    low|   youth|          0.0|           1.0|       (3,[0],[1.0])|        (3,[1],[1.0])|(7,[0,1,5],[10000...|[0.81962285602731...|[0.69415627704649...|       0.0|\n",
      "|    10000|  1|        1|       2| 23|    low|   youth|          0.0|           1.0|       (3,[0],[1.0])|        (3,[1],[1.0])|(7,[0,1,5],[10000...|[0.81962285602731...|[0.69415627704649...|       0.0|\n",
      "|    10000|  1|        1|       2| 23|    low|   youth|          0.0|           1.0|       (3,[0],[1.0])|        (3,[1],[1.0])|(7,[0,1,5],[10000...|[0.81962285602731...|[0.69415627704649...|       0.0|\n",
      "|    10000|  1|        1|       2| 24|    low|   youth|          0.0|           1.0|       (3,[0],[1.0])|        (3,[1],[1.0])|(7,[0,1,5],[10000...|[0.81962285602731...|[0.69415627704649...|       0.0|\n",
      "|    10000|  1|        1|       2| 26|    low|   youth|          0.0|           1.0|       (3,[0],[1.0])|        (3,[1],[1.0])|(7,[0,1,5],[10000...|[0.81962285602731...|[0.69415627704649...|       0.0|\n",
      "|    10000|  1|        1|       2| 33|    low|    yong|          0.0|           0.0|       (3,[0],[1.0])|        (3,[0],[1.0])|(7,[0,1,4],[10000...|[0.75421470512762...|[0.68009636795440...|       0.0|\n",
      "|    10000|  1|        1|       2| 36|    low|    yong|          0.0|           0.0|       (3,[0],[1.0])|        (3,[0],[1.0])|(7,[0,1,4],[10000...|[0.75421470512762...|[0.68009636795440...|       0.0|\n",
      "|    10000|  1|        2|       1| 23|    low|   youth|          0.0|           1.0|       (3,[0],[1.0])|        (3,[1],[1.0])|(7,[0,1,5],[10000...|[0.81962285602731...|[0.69415627704649...|       0.0|\n",
      "|    10000|  1|        2|       1| 24|    low|   youth|          0.0|           1.0|       (3,[0],[1.0])|        (3,[1],[1.0])|(7,[0,1,5],[10000...|[0.81962285602731...|[0.69415627704649...|       0.0|\n",
      "|    10000|  1|        2|       1| 26|    low|   youth|          0.0|           1.0|       (3,[0],[1.0])|        (3,[1],[1.0])|(7,[0,1,5],[10000...|[0.81962285602731...|[0.69415627704649...|       0.0|\n",
      "|    10000|  1|        2|       1| 28|    low|   youth|          0.0|           1.0|       (3,[0],[1.0])|        (3,[1],[1.0])|(7,[0,1,5],[10000...|[0.81962285602731...|[0.69415627704649...|       0.0|\n",
      "|    10000|  1|        2|       1| 29|    low|   youth|          0.0|           1.0|       (3,[0],[1.0])|        (3,[1],[1.0])|(7,[0,1,5],[10000...|[0.81962285602731...|[0.69415627704649...|       0.0|\n",
      "|    10000|  1|        2|       1| 35|    low|    yong|          0.0|           0.0|       (3,[0],[1.0])|        (3,[0],[1.0])|(7,[0,1,4],[10000...|[0.75421470512762...|[0.68009636795440...|       0.0|\n",
      "|    10000|  1|        2|       1| 35|    low|    yong|          0.0|           0.0|       (3,[0],[1.0])|        (3,[0],[1.0])|(7,[0,1,4],[10000...|[0.75421470512762...|[0.68009636795440...|       0.0|\n",
      "|    10000|  1|        2|       1| 41|    low|  mature|          0.0|           2.0|       (3,[0],[1.0])|        (3,[2],[1.0])|(7,[0,1,6],[10000...|[0.61395851869453...|[0.64884326402637...|       0.0|\n",
      "|    10000|  1|        2|       1| 43|    low|  mature|          0.0|           2.0|       (3,[0],[1.0])|        (3,[2],[1.0])|(7,[0,1,6],[10000...|[0.61395851869453...|[0.64884326402637...|       0.0|\n",
      "|    10000|  1|        2|       1| 44|    low|  mature|          0.0|           2.0|       (3,[0],[1.0])|        (3,[2],[1.0])|(7,[0,1,6],[10000...|[0.61395851869453...|[0.64884326402637...|       0.0|\n",
      "|    10000|  1|        2|       1| 44|    low|  mature|          0.0|           2.0|       (3,[0],[1.0])|        (3,[2],[1.0])|(7,[0,1,6],[10000...|[0.61395851869453...|[0.64884326402637...|       0.0|\n",
      "+---------+---+---------+--------+---+-------+--------+-------------+--------------+--------------------+---------------------+--------------------+--------------------+--------------------+----------+\n",
      "only showing top 20 rows\n",
      "\n"
     ]
    }
   ],
   "source": [
    "# predict on unseen data\n",
    "cf.predict_model(unseen).show()"
   ]
  },
  {
   "cell_type": "code",
   "execution_count": null,
   "id": "d0cd8f89-1cb2-4c86-8012-c0b1980238ba",
   "metadata": {},
   "outputs": [],
   "source": [
    "cf.evaluate_model(evaluate_on=\"holdout\",)"
   ]
  },
  {
   "cell_type": "code",
   "execution_count": 16,
   "id": "d0368948-847c-4273-9537-03ecf8743968",
   "metadata": {},
   "outputs": [
    {
     "name": "stdout",
     "output_type": "stream",
     "text": [
      "Training started for lrc ....\n",
      "Training successfully ended for lrc ....\n",
      "Training started for rfc ....\n",
      "Training successfully ended for rfc ....\n",
      "Training started for gbc ....\n",
      "Training successfully ended for gbc ....\n",
      "Training started for dtc ....\n",
      "Training successfully ended for dtc ....\n",
      "Training started for mlpc ....\n",
      "Training started for svc ....\n",
      "Training successfully ended for svc ....\n",
      "Training started for nbc ....\n",
      "Training successfully ended for nbc ....\n",
      "Training started for fmc ....\n",
      "Training successfully ended for fmc ....\n"
     ]
    },
    {
     "data": {
      "text/html": [
       "<div>\n",
       "<style scoped>\n",
       "    .dataframe tbody tr th:only-of-type {\n",
       "        vertical-align: middle;\n",
       "    }\n",
       "\n",
       "    .dataframe tbody tr th {\n",
       "        vertical-align: top;\n",
       "    }\n",
       "\n",
       "    .dataframe thead th {\n",
       "        text-align: right;\n",
       "    }\n",
       "</style>\n",
       "<table border=\"1\" class=\"dataframe\">\n",
       "  <thead>\n",
       "    <tr style=\"text-align: right;\">\n",
       "      <th></th>\n",
       "      <th>model</th>\n",
       "      <th>type</th>\n",
       "      <th>auc</th>\n",
       "      <th>accuracy</th>\n",
       "      <th>weighted_precision</th>\n",
       "      <th>weighted_recall</th>\n",
       "      <th>f1</th>\n",
       "    </tr>\n",
       "  </thead>\n",
       "  <tbody>\n",
       "    <tr>\n",
       "      <th>5</th>\n",
       "      <td>nbc</td>\n",
       "      <td>holdout</td>\n",
       "      <td>0.612088</td>\n",
       "      <td>0.784099</td>\n",
       "      <td>1.000000</td>\n",
       "      <td>0.784099</td>\n",
       "      <td>0.878986</td>\n",
       "    </tr>\n",
       "    <tr>\n",
       "      <th>1</th>\n",
       "      <td>rfc</td>\n",
       "      <td>holdout</td>\n",
       "      <td>0.611507</td>\n",
       "      <td>0.784099</td>\n",
       "      <td>1.000000</td>\n",
       "      <td>0.784099</td>\n",
       "      <td>0.878986</td>\n",
       "    </tr>\n",
       "    <tr>\n",
       "      <th>2</th>\n",
       "      <td>gbc</td>\n",
       "      <td>holdout</td>\n",
       "      <td>0.611499</td>\n",
       "      <td>0.782865</td>\n",
       "      <td>0.984402</td>\n",
       "      <td>0.782865</td>\n",
       "      <td>0.869928</td>\n",
       "    </tr>\n",
       "    <tr>\n",
       "      <th>0</th>\n",
       "      <td>lrc</td>\n",
       "      <td>holdout</td>\n",
       "      <td>0.611009</td>\n",
       "      <td>0.784099</td>\n",
       "      <td>1.000000</td>\n",
       "      <td>0.784099</td>\n",
       "      <td>0.878986</td>\n",
       "    </tr>\n",
       "    <tr>\n",
       "      <th>6</th>\n",
       "      <td>fmc</td>\n",
       "      <td>holdout</td>\n",
       "      <td>0.599817</td>\n",
       "      <td>0.784099</td>\n",
       "      <td>1.000000</td>\n",
       "      <td>0.784099</td>\n",
       "      <td>0.878986</td>\n",
       "    </tr>\n",
       "    <tr>\n",
       "      <th>4</th>\n",
       "      <td>svc</td>\n",
       "      <td>holdout</td>\n",
       "      <td>0.584645</td>\n",
       "      <td>0.784099</td>\n",
       "      <td>1.000000</td>\n",
       "      <td>0.784099</td>\n",
       "      <td>0.878986</td>\n",
       "    </tr>\n",
       "    <tr>\n",
       "      <th>3</th>\n",
       "      <td>dtc</td>\n",
       "      <td>holdout</td>\n",
       "      <td>0.402557</td>\n",
       "      <td>0.782865</td>\n",
       "      <td>0.984402</td>\n",
       "      <td>0.782865</td>\n",
       "      <td>0.869928</td>\n",
       "    </tr>\n",
       "  </tbody>\n",
       "</table>\n",
       "</div>"
      ],
      "text/plain": [
       "  model     type       auc  accuracy  weighted_precision  weighted_recall        f1\n",
       "5   nbc  holdout  0.612088  0.784099            1.000000         0.784099  0.878986\n",
       "1   rfc  holdout  0.611507  0.784099            1.000000         0.784099  0.878986\n",
       "2   gbc  holdout  0.611499  0.782865            0.984402         0.782865  0.869928\n",
       "0   lrc  holdout  0.611009  0.784099            1.000000         0.784099  0.878986\n",
       "6   fmc  holdout  0.599817  0.784099            1.000000         0.784099  0.878986\n",
       "4   svc  holdout  0.584645  0.784099            1.000000         0.784099  0.878986\n",
       "3   dtc  holdout  0.402557  0.782865            0.984402         0.782865  0.869928"
      ]
     },
     "execution_count": 16,
     "metadata": {},
     "output_type": "execute_result"
    }
   ],
   "source": [
    "cf.compare_models()"
   ]
  },
  {
   "cell_type": "code",
   "execution_count": 21,
   "id": "748a4fbb-3a86-4f96-9058-814e8df3945b",
   "metadata": {},
   "outputs": [
    {
     "data": {
      "text/plain": [
       "[StringIndexerModel: uid=StringIndexer_f1bd6b3a513a, handleInvalid=error, numInputCols=2, numOutputCols=2,\n",
       " OneHotEncoderModel: uid=OneHotEncoder_784bc268af8f, dropLast=false, handleInvalid=error, numInputCols=2, numOutputCols=2,\n",
       " VectorAssembler_69a35607a3c0,\n",
       " NaiveBayesModel: uid=NaiveBayes_7daad133561d, modelType=multinomial, numClasses=2, numFeatures=7]"
      ]
     },
     "execution_count": 21,
     "metadata": {},
     "output_type": "execute_result"
    }
   ],
   "source": [
    "cf.fitted_pipeline.stages"
   ]
  },
  {
   "cell_type": "code",
   "execution_count": 18,
   "id": "a7aba6c2-1577-48df-b378-e24a11878b97",
   "metadata": {},
   "outputs": [],
   "source": [
    "import pyspark"
   ]
  },
  {
   "cell_type": "code",
   "execution_count": 19,
   "id": "17bd7d4a-0ae9-47c3-bcc1-c3ae86c47acb",
   "metadata": {},
   "outputs": [
    {
     "data": {
      "text/plain": [
       "'3.2.1'"
      ]
     },
     "execution_count": 19,
     "metadata": {},
     "output_type": "execute_result"
    }
   ],
   "source": [
    "pyspark.__version__"
   ]
  },
  {
   "cell_type": "code",
   "execution_count": 21,
   "id": "9ee088fe-b8da-4641-8d2f-bcbb3f7843ac",
   "metadata": {},
   "outputs": [],
   "source": [
    "from pyspark.sql import DataFrame"
   ]
  },
  {
   "cell_type": "code",
   "execution_count": 22,
   "id": "82e74680-ca7e-4fac-8d2e-011e13ef9e36",
   "metadata": {},
   "outputs": [
    {
     "ename": "TypeError",
     "evalue": "__init__() missing 2 required positional arguments: 'jdf' and 'sql_ctx'",
     "output_type": "error",
     "traceback": [
      "\u001b[0;31m---------------------------------------------------------------------------\u001b[0m",
      "\u001b[0;31mTypeError\u001b[0m                                 Traceback (most recent call last)",
      "Input \u001b[0;32mIn [22]\u001b[0m, in \u001b[0;36m<cell line: 1>\u001b[0;34m()\u001b[0m\n\u001b[0;32m----> 1\u001b[0m \u001b[43mDataFrame\u001b[49m\u001b[43m(\u001b[49m\u001b[43m)\u001b[49m\n",
      "\u001b[0;31mTypeError\u001b[0m: __init__() missing 2 required positional arguments: 'jdf' and 'sql_ctx'"
     ]
    }
   ],
   "source": [
    "DataFrame()"
   ]
  },
  {
   "cell_type": "code",
   "execution_count": 24,
   "id": "c6eef12e-d71f-4b8b-8f90-8593cd824347",
   "metadata": {},
   "outputs": [
    {
     "data": {
      "text/plain": [
       "['LIMIT_BAL',\n",
       " 'SEX',\n",
       " 'EDUCATION',\n",
       " 'MARRIAGE',\n",
       " 'AGE',\n",
       " 'default',\n",
       " 'BAL_CAT',\n",
       " 'maturity',\n",
       " 'BAL_CAT_index',\n",
       " 'maturity_index',\n",
       " 'BAL_CAT_index_onehot',\n",
       " 'maturity_index_onehot',\n",
       " 'features',\n",
       " 'rawPrediction',\n",
       " 'probability',\n",
       " 'prediction']"
      ]
     },
     "execution_count": 24,
     "metadata": {},
     "output_type": "execute_result"
    }
   ],
   "source": [
    "cf.train_data_transformed.columns"
   ]
  },
  {
   "cell_type": "code",
   "execution_count": 25,
   "id": "66417a5d-3499-46ba-bd0a-87326cf5f155",
   "metadata": {},
   "outputs": [
    {
     "data": {
      "text/plain": [
       "['LIMIT_BAL']"
      ]
     },
     "execution_count": 25,
     "metadata": {},
     "output_type": "execute_result"
    }
   ],
   "source": [
    "cf.numeric_features"
   ]
  },
  {
   "cell_type": "code",
   "execution_count": null,
   "id": "b30a88b9-2d42-4fae-a9c9-3513de345da6",
   "metadata": {},
   "outputs": [],
   "source": []
  }
 ],
 "metadata": {
  "kernelspec": {
   "display_name": "Python 3 (ipykernel)",
   "language": "python",
   "name": "python3"
  },
  "language_info": {
   "codemirror_mode": {
    "name": "ipython",
    "version": 3
   },
   "file_extension": ".py",
   "mimetype": "text/x-python",
   "name": "python",
   "nbconvert_exporter": "python",
   "pygments_lexer": "ipython3",
   "version": "3.9.10"
  }
 },
 "nbformat": 4,
 "nbformat_minor": 5
}
