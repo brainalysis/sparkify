{
 "cells": [
  {
   "cell_type": "code",
   "execution_count": 1,
   "id": "8e2b7568-a569-48be-89ec-28bd003dd61e",
   "metadata": {},
   "outputs": [
    {
     "name": "stderr",
     "output_type": "stream",
     "text": [
      "WARNING:root:'PYARROW_IGNORE_TIMEZONE' environment variable was not set. It is required to set this environment variable to '1' in both driver and executor sides if you use pyarrow>=2.0.0. pandas-on-Spark will set it for you but it does not work if there is a Spark context already launched.\n"
     ]
    }
   ],
   "source": [
    "from typing import List\n",
    "# from databricks import koalas as ks , we do not neven need koalsa, because it is now built in with databricks\n",
    "import pyspark.pandas as ps\n",
    "from pyspark.sql import DataFrame as SparkDataFrame\n",
    "\n",
    "from pyspark.ml.feature import VectorAssembler,VectorIndexer,OneHotEncoder,StringIndexer\n",
    "from pyspark.ml import Pipeline "
   ]
  },
  {
   "cell_type": "code",
   "execution_count": 2,
   "id": "9b8ed131-f16c-43a9-ba98-355454cddc45",
   "metadata": {},
   "outputs": [],
   "source": [
    "from SparkAutoML.ml_module.preprocessing_module.preprocess_file import Preprocessor"
   ]
  },
  {
   "cell_type": "code",
   "execution_count": 16,
   "id": "e07e151a-dcae-454b-9809-18a2322c8430",
   "metadata": {},
   "outputs": [],
   "source": [
    "# read data \n",
    "df = ps.read_csv(\"credit.csv\")"
   ]
  },
  {
   "cell_type": "code",
   "execution_count": 17,
   "id": "1eca9b8b-5dbd-4cd8-b961-71f8c6284cab",
   "metadata": {},
   "outputs": [
    {
     "data": {
      "text/plain": [
       "Index(['LIMIT_BAL', 'SEX', 'EDUCATION', 'MARRIAGE', 'AGE', 'PAY_1', 'PAY_2',\n",
       "       'PAY_3', 'PAY_4', 'PAY_5', 'PAY_6', 'BILL_AMT1', 'BILL_AMT2',\n",
       "       'BILL_AMT3', 'BILL_AMT4', 'BILL_AMT5', 'BILL_AMT6', 'PAY_AMT1',\n",
       "       'PAY_AMT2', 'PAY_AMT3', 'PAY_AMT4', 'PAY_AMT5', 'PAY_AMT6', 'default'],\n",
       "      dtype='object')"
      ]
     },
     "execution_count": 17,
     "metadata": {},
     "output_type": "execute_result"
    }
   ],
   "source": [
    "df.columns"
   ]
  },
  {
   "cell_type": "code",
   "execution_count": 11,
   "id": "cd56852e-d2e5-462c-b991-91a8fcd1c0f9",
   "metadata": {},
   "outputs": [],
   "source": [
    "#def bool_function(df:ks.DataFrame)->ks.DataFrame:\n",
    "def bool_function(df):\n",
    "  df =ps.sql(\"\"\"select *,\n",
    "  case when mean_bal > 50000 then 1 else 0 end as new_bol_sql\n",
    "  from {df}\"\"\")\n",
    "  return df"
   ]
  },
  {
   "cell_type": "code",
   "execution_count": 19,
   "id": "48b59b38-7b1a-4b74-a45f-dbee2d5a8842",
   "metadata": {},
   "outputs": [],
   "source": [
    "# that is how you can apply the full stack piping in koalas\n",
    "df= (\n",
    "df\n",
    "[['LIMIT_BAL', 'SEX', 'EDUCATION', 'MARRIAGE', 'AGE']]\n",
    ".pipe(lambda x: ps.sql(\"\"\" select * , case when LIMIT_BAL < 100000 then 'low' when LIMIT_BAL between 100000 and 200000 then 'medium' else 'high' end as BAL_CAT from {x}\"\"\"))\n",
    ".pipe(lambda x: ps.sql(\"\"\" select * , case when AGE < 30 then 'youth' when AGE between 30 and 40 then 'yong' else 'mature' end as maturity from {x}\"\"\"))\n",
    ")"
   ]
  },
  {
   "cell_type": "code",
   "execution_count": 20,
   "id": "c93721e1-b45c-4706-9857-6dd73ef61429",
   "metadata": {},
   "outputs": [
    {
     "data": {
      "text/html": [
       "<div>\n",
       "<style scoped>\n",
       "    .dataframe tbody tr th:only-of-type {\n",
       "        vertical-align: middle;\n",
       "    }\n",
       "\n",
       "    .dataframe tbody tr th {\n",
       "        vertical-align: top;\n",
       "    }\n",
       "\n",
       "    .dataframe thead th {\n",
       "        text-align: right;\n",
       "    }\n",
       "</style>\n",
       "<table border=\"1\" class=\"dataframe\">\n",
       "  <thead>\n",
       "    <tr style=\"text-align: right;\">\n",
       "      <th></th>\n",
       "      <th>LIMIT_BAL</th>\n",
       "      <th>SEX</th>\n",
       "      <th>EDUCATION</th>\n",
       "      <th>MARRIAGE</th>\n",
       "      <th>AGE</th>\n",
       "      <th>BAL_CAT</th>\n",
       "      <th>maturity</th>\n",
       "    </tr>\n",
       "  </thead>\n",
       "  <tbody>\n",
       "    <tr>\n",
       "      <th>0</th>\n",
       "      <td>20000</td>\n",
       "      <td>2</td>\n",
       "      <td>2</td>\n",
       "      <td>1</td>\n",
       "      <td>24</td>\n",
       "      <td>low</td>\n",
       "      <td>youth</td>\n",
       "    </tr>\n",
       "    <tr>\n",
       "      <th>1</th>\n",
       "      <td>90000</td>\n",
       "      <td>2</td>\n",
       "      <td>2</td>\n",
       "      <td>2</td>\n",
       "      <td>34</td>\n",
       "      <td>low</td>\n",
       "      <td>yong</td>\n",
       "    </tr>\n",
       "    <tr>\n",
       "      <th>2</th>\n",
       "      <td>50000</td>\n",
       "      <td>2</td>\n",
       "      <td>2</td>\n",
       "      <td>1</td>\n",
       "      <td>37</td>\n",
       "      <td>low</td>\n",
       "      <td>yong</td>\n",
       "    </tr>\n",
       "    <tr>\n",
       "      <th>3</th>\n",
       "      <td>50000</td>\n",
       "      <td>1</td>\n",
       "      <td>2</td>\n",
       "      <td>1</td>\n",
       "      <td>57</td>\n",
       "      <td>low</td>\n",
       "      <td>mature</td>\n",
       "    </tr>\n",
       "    <tr>\n",
       "      <th>4</th>\n",
       "      <td>50000</td>\n",
       "      <td>1</td>\n",
       "      <td>1</td>\n",
       "      <td>2</td>\n",
       "      <td>37</td>\n",
       "      <td>low</td>\n",
       "      <td>yong</td>\n",
       "    </tr>\n",
       "  </tbody>\n",
       "</table>\n",
       "</div>"
      ],
      "text/plain": [
       "   LIMIT_BAL  SEX  EDUCATION  MARRIAGE  AGE BAL_CAT maturity\n",
       "0      20000    2          2         1   24     low    youth\n",
       "1      90000    2          2         2   34     low     yong\n",
       "2      50000    2          2         1   37     low     yong\n",
       "3      50000    1          2         1   57     low   mature\n",
       "4      50000    1          1         2   37     low     yong"
      ]
     },
     "execution_count": 20,
     "metadata": {},
     "output_type": "execute_result"
    }
   ],
   "source": [
    "df.head()"
   ]
  },
  {
   "cell_type": "code",
   "execution_count": 21,
   "id": "145e0d8c-a169-4236-98b4-ea2f224681e3",
   "metadata": {},
   "outputs": [],
   "source": [
    "spark_df = df.to_spark()\n",
    "train,test = spark_df.randomSplit([.70,.30],seed=123)"
   ]
  },
  {
   "cell_type": "code",
   "execution_count": 22,
   "id": "194a624b-c8ad-47ba-b1ef-0799e5386d77",
   "metadata": {},
   "outputs": [],
   "source": [
    "pipe = Preprocessor(training_data=train\n",
    "                     ,hold_out_data=test,\n",
    "                     target_feature='default',\n",
    "                     numeric_features= ['LIMIT_BAL',],\n",
    "                     categorical_features=[\"BAL_CAT\",\"maturity\"],\n",
    "                     impute_missing_values=True, missing_value_strategy=\"mean\",\n",
    "                      )"
   ]
  },
  {
   "cell_type": "code",
   "execution_count": 23,
   "id": "11fabe40-3740-4d42-98d6-8e503db6faf5",
   "metadata": {},
   "outputs": [],
   "source": [
    "pipe.run_pipeline()"
   ]
  },
  {
   "cell_type": "code",
   "execution_count": 24,
   "id": "9bb44cb0-6dc0-4109-87bc-50f1d1506c15",
   "metadata": {},
   "outputs": [
    {
     "name": "stdout",
     "output_type": "stream",
     "text": [
      "+---------+---+---------+--------+---+-------+--------+-------------+--------------+--------------------+---------------------+-----------------+--------------------+\n",
      "|LIMIT_BAL|SEX|EDUCATION|MARRIAGE|AGE|BAL_CAT|maturity|BAL_CAT_index|maturity_index|BAL_CAT_index_onehot|maturity_index_onehot|LIMIT_BAL_imputed|            features|\n",
      "+---------+---+---------+--------+---+-------+--------+-------------+--------------+--------------------+---------------------+-----------------+--------------------+\n",
      "|    10000|  1|        1|       1| 38|    low|    yong|          0.0|           0.0|       (3,[0],[1.0])|        (3,[0],[1.0])|            10000|(7,[0,1,4],[10000...|\n",
      "|    10000|  1|        1|       1| 40|    low|    yong|          0.0|           0.0|       (3,[0],[1.0])|        (3,[0],[1.0])|            10000|(7,[0,1,4],[10000...|\n",
      "|    10000|  1|        1|       1| 48|    low|  mature|          0.0|           2.0|       (3,[0],[1.0])|        (3,[2],[1.0])|            10000|(7,[0,1,6],[10000...|\n",
      "|    10000|  1|        1|       1| 50|    low|  mature|          0.0|           2.0|       (3,[0],[1.0])|        (3,[2],[1.0])|            10000|(7,[0,1,6],[10000...|\n",
      "|    10000|  1|        1|       2| 22|    low|   youth|          0.0|           1.0|       (3,[0],[1.0])|        (3,[1],[1.0])|            10000|(7,[0,1,5],[10000...|\n",
      "|    10000|  1|        1|       2| 22|    low|   youth|          0.0|           1.0|       (3,[0],[1.0])|        (3,[1],[1.0])|            10000|(7,[0,1,5],[10000...|\n",
      "|    10000|  1|        1|       2| 23|    low|   youth|          0.0|           1.0|       (3,[0],[1.0])|        (3,[1],[1.0])|            10000|(7,[0,1,5],[10000...|\n",
      "|    10000|  1|        1|       2| 23|    low|   youth|          0.0|           1.0|       (3,[0],[1.0])|        (3,[1],[1.0])|            10000|(7,[0,1,5],[10000...|\n",
      "|    10000|  1|        1|       2| 23|    low|   youth|          0.0|           1.0|       (3,[0],[1.0])|        (3,[1],[1.0])|            10000|(7,[0,1,5],[10000...|\n",
      "|    10000|  1|        1|       2| 23|    low|   youth|          0.0|           1.0|       (3,[0],[1.0])|        (3,[1],[1.0])|            10000|(7,[0,1,5],[10000...|\n",
      "|    10000|  1|        1|       2| 24|    low|   youth|          0.0|           1.0|       (3,[0],[1.0])|        (3,[1],[1.0])|            10000|(7,[0,1,5],[10000...|\n",
      "|    10000|  1|        1|       2| 24|    low|   youth|          0.0|           1.0|       (3,[0],[1.0])|        (3,[1],[1.0])|            10000|(7,[0,1,5],[10000...|\n",
      "|    10000|  1|        1|       2| 24|    low|   youth|          0.0|           1.0|       (3,[0],[1.0])|        (3,[1],[1.0])|            10000|(7,[0,1,5],[10000...|\n",
      "|    10000|  1|        1|       2| 24|    low|   youth|          0.0|           1.0|       (3,[0],[1.0])|        (3,[1],[1.0])|            10000|(7,[0,1,5],[10000...|\n",
      "|    10000|  1|        1|       2| 25|    low|   youth|          0.0|           1.0|       (3,[0],[1.0])|        (3,[1],[1.0])|            10000|(7,[0,1,5],[10000...|\n",
      "|    10000|  1|        1|       2| 25|    low|   youth|          0.0|           1.0|       (3,[0],[1.0])|        (3,[1],[1.0])|            10000|(7,[0,1,5],[10000...|\n",
      "|    10000|  1|        1|       2| 25|    low|   youth|          0.0|           1.0|       (3,[0],[1.0])|        (3,[1],[1.0])|            10000|(7,[0,1,5],[10000...|\n",
      "|    10000|  1|        1|       2| 26|    low|   youth|          0.0|           1.0|       (3,[0],[1.0])|        (3,[1],[1.0])|            10000|(7,[0,1,5],[10000...|\n",
      "|    10000|  1|        1|       2| 27|    low|   youth|          0.0|           1.0|       (3,[0],[1.0])|        (3,[1],[1.0])|            10000|(7,[0,1,5],[10000...|\n",
      "|    10000|  1|        1|       2| 29|    low|   youth|          0.0|           1.0|       (3,[0],[1.0])|        (3,[1],[1.0])|            10000|(7,[0,1,5],[10000...|\n",
      "+---------+---+---------+--------+---+-------+--------+-------------+--------------+--------------------+---------------------+-----------------+--------------------+\n",
      "only showing top 20 rows\n",
      "\n"
     ]
    }
   ],
   "source": [
    "pipe.train_data_transformed.show()"
   ]
  },
  {
   "cell_type": "code",
   "execution_count": 50,
   "id": "31cdc86a-b0a6-4149-a405-852adfa6591e",
   "metadata": {},
   "outputs": [],
   "source": [
    "class parent():\n",
    "    def __init__(self,arga,argb):\n",
    "        self.arga = arga\n",
    "        self.argb = argb\n",
    "        print (\"running parent\")\n",
    "        return None"
   ]
  },
  {
   "cell_type": "code",
   "execution_count": 56,
   "id": "52f67795-bcdb-407e-afa5-3e0d0bb7876f",
   "metadata": {},
   "outputs": [],
   "source": [
    "class child(parent):\n",
    "    def __init__(self, super):\n",
    "        \n",
    "        print (\"running child\")"
   ]
  },
  {
   "cell_type": "code",
   "execution_count": 57,
   "id": "3b5da278-5eb3-4c4c-8199-973660e8cd8c",
   "metadata": {},
   "outputs": [
    {
     "ename": "TypeError",
     "evalue": "__init__() got an unexpected keyword argument 'arga'",
     "output_type": "error",
     "traceback": [
      "\u001b[0;31m---------------------------------------------------------------------------\u001b[0m",
      "\u001b[0;31mTypeError\u001b[0m                                 Traceback (most recent call last)",
      "Input \u001b[0;32mIn [57]\u001b[0m, in \u001b[0;36m<cell line: 1>\u001b[0;34m()\u001b[0m\n\u001b[0;32m----> 1\u001b[0m c \u001b[38;5;241m=\u001b[39m \u001b[43mchild\u001b[49m\u001b[43m(\u001b[49m\u001b[43marga\u001b[49m\u001b[38;5;241;43m=\u001b[39;49m\u001b[38;5;124;43m\"\u001b[39;49m\u001b[38;5;124;43ma\u001b[39;49m\u001b[38;5;124;43m\"\u001b[39;49m\u001b[43m,\u001b[49m\u001b[43margb\u001b[49m\u001b[38;5;241;43m=\u001b[39;49m\u001b[38;5;124;43m\"\u001b[39;49m\u001b[38;5;124;43mb\u001b[39;49m\u001b[38;5;124;43m\"\u001b[39;49m\u001b[43m)\u001b[49m\n",
      "\u001b[0;31mTypeError\u001b[0m: __init__() got an unexpected keyword argument 'arga'"
     ]
    }
   ],
   "source": [
    "c = child(arga=\"a\",argb=\"b\")"
   ]
  },
  {
   "cell_type": "code",
   "execution_count": 49,
   "id": "11f8cda1-9151-4daf-9165-64391a016ce6",
   "metadata": {},
   "outputs": [
    {
     "ename": "AttributeError",
     "evalue": "'child' object has no attribute 'arga'",
     "output_type": "error",
     "traceback": [
      "\u001b[0;31m---------------------------------------------------------------------------\u001b[0m",
      "\u001b[0;31mAttributeError\u001b[0m                            Traceback (most recent call last)",
      "Input \u001b[0;32mIn [49]\u001b[0m, in \u001b[0;36m<cell line: 1>\u001b[0;34m()\u001b[0m\n\u001b[0;32m----> 1\u001b[0m \u001b[43mc\u001b[49m\u001b[38;5;241;43m.\u001b[39;49m\u001b[43marga\u001b[49m\n",
      "\u001b[0;31mAttributeError\u001b[0m: 'child' object has no attribute 'arga'"
     ]
    }
   ],
   "source": [
    "c.arga"
   ]
  },
  {
   "cell_type": "code",
   "execution_count": null,
   "id": "071a759e-7fa4-42ef-8090-cc53adf4b598",
   "metadata": {},
   "outputs": [],
   "source": []
  }
 ],
 "metadata": {
  "kernelspec": {
   "display_name": "Python 3 (ipykernel)",
   "language": "python",
   "name": "python3"
  },
  "language_info": {
   "codemirror_mode": {
    "name": "ipython",
    "version": 3
   },
   "file_extension": ".py",
   "mimetype": "text/x-python",
   "name": "python",
   "nbconvert_exporter": "python",
   "pygments_lexer": "ipython3",
   "version": "3.9.10"
  }
 },
 "nbformat": 4,
 "nbformat_minor": 5
}
