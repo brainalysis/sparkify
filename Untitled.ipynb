{
 "cells": [
  {
   "cell_type": "code",
   "execution_count": 1,
   "id": "8e2b7568-a569-48be-89ec-28bd003dd61e",
   "metadata": {},
   "outputs": [
    {
     "name": "stderr",
     "output_type": "stream",
     "text": [
      "WARNING:root:'PYARROW_IGNORE_TIMEZONE' environment variable was not set. It is required to set this environment variable to '1' in both driver and executor sides if you use pyarrow>=2.0.0. pandas-on-Spark will set it for you but it does not work if there is a Spark context already launched.\n"
     ]
    }
   ],
   "source": [
    "from typing import List\n",
    "# from databricks import koalas as ks , we do not neven need koalsa, because it is now built in with databricks\n",
    "import pyspark.pandas as ps\n",
    "from pyspark.sql import DataFrame as SparkDataFrame\n",
    "\n",
    "from pyspark.ml.feature import VectorAssembler,VectorIndexer,OneHotEncoder,StringIndexer\n",
    "from pyspark.ml import Pipeline "
   ]
  },
  {
   "cell_type": "code",
   "execution_count": 104,
   "id": "b318cebc-02af-412b-9ad4-7d1bc7842d6d",
   "metadata": {},
   "outputs": [],
   "source": [
    "\n",
    "from pyspark import keyword_only  ## < 2.0 -> pyspark.ml.util.keyword_only\n",
    "from pyspark.ml import Transformer\n",
    "from pyspark.ml.param.shared import HasInputCol, HasOutputCol, Param, Params, TypeConverters\n",
    "# Available in PySpark >= 2.3.0 \n",
    "from pyspark.ml.util import DefaultParamsReadable, DefaultParamsWritable  \n",
    "from pyspark.sql.functions import udf\n",
    "from pyspark.sql.types import ArrayType, StringType\n",
    "\n",
    "class Connector(\n",
    "        Transformer, HasInputCol, HasOutputCol,\n",
    "        # Credits https://stackoverflow.com/a/52467470\n",
    "        # by https://stackoverflow.com/users/234944/benjamin-manns\n",
    "        DefaultParamsReadable, DefaultParamsWritable):\n",
    "\n",
    "\n",
    "    @keyword_only\n",
    "    def __init__(self, inputCol=None, outputCol=None):\n",
    "        super(Connector, self).__init__()\n",
    "        kwargs = self._input_kwargs\n",
    "        self.setParams(**kwargs)\n",
    "\n",
    "    @keyword_only\n",
    "    def setParams(self, inputCol=None, outputCol=None,):\n",
    "        kwargs = self._input_kwargs\n",
    "        return self._set(**kwargs)\n",
    "\n",
    "\n",
    "    # Required in Spark >= 3.0\n",
    "    def setInputCol(self, value):\n",
    "        \"\"\"\n",
    "        Sets the value of :py:attr:`inputCol`.\n",
    "        \"\"\"\n",
    "        return self._set(inputCol=value)\n",
    "\n",
    "    # Required in Spark >= 3.0\n",
    "    def setOutputCol(self, value):\n",
    "        \"\"\"\n",
    "        Sets the value of :py:attr:`outputCol`.\n",
    "        \"\"\"\n",
    "        return self._set(outputCol=value)\n",
    "\n",
    "    def _transform(self, dataset):\n",
    "        dataset = dataset\n",
    "\n",
    "        return dataset"
   ]
  },
  {
   "cell_type": "code",
   "execution_count": 159,
   "id": "27349345-5ca4-4e07-a159-e0a53e790118",
   "metadata": {},
   "outputs": [],
   "source": [
    "\n",
    "from pyspark import keyword_only  ## < 2.0 -> pyspark.ml.util.keyword_only\n",
    "from pyspark.ml import Transformer\n",
    "from pyspark.ml.param.shared import HasInputCol, HasOutputCol, Param, Params, TypeConverters\n",
    "# Available in PySpark >= 2.3.0 \n",
    "from pyspark.ml.util import DefaultParamsReadable, DefaultParamsWritable  \n",
    "from pyspark.sql.functions import udf\n",
    "from pyspark.sql.types import ArrayType, StringType\n",
    "\n",
    "class ColumnHandler(\n",
    "        Transformer, HasInputCol, HasOutputCol,\n",
    "        # Credits https://stackoverflow.com/a/52467470\n",
    "        # by https://stackoverflow.com/users/234944/benjamin-manns\n",
    "        DefaultParamsReadable, DefaultParamsWritable):\n",
    "\n",
    "\n",
    "    @keyword_only\n",
    "    def __init__(self, inputCol=None, outputCol=None):\n",
    "        super(ColumnHandler, self).__init__()\n",
    "        kwargs = self._input_kwargs\n",
    "        self.setParams(**kwargs)\n",
    "\n",
    "    @keyword_only\n",
    "    def setParams(self, inputCol=None, outputCol=None,):\n",
    "        kwargs = self._input_kwargs\n",
    "        return self._set(**kwargs)\n",
    "\n",
    "\n",
    "    # Required in Spark >= 3.0\n",
    "    def setInputCol(self, value):\n",
    "        \"\"\"\n",
    "        Sets the value of :py:attr:`inputCol`.\n",
    "        \"\"\"\n",
    "        return self._set(inputCol=value)\n",
    "\n",
    "    # Required in Spark >= 3.0\n",
    "    def setOutputCol(self, value):\n",
    "        \"\"\"\n",
    "        Sets the value of :py:attr:`outputCol`.\n",
    "        \"\"\"\n",
    "        return self._set(outputCol=value)\n",
    "\n",
    "    def _transform(self, dataset):\n",
    "        dataset = dataset.drop('numeric_features')\n",
    "        dataset = dataset.withColumnRenamed(\"numeric_features1\",\"numeric_features\") \n",
    "\n",
    "        return dataset"
   ]
  },
  {
   "cell_type": "code",
   "execution_count": 2,
   "id": "9b8ed131-f16c-43a9-ba98-355454cddc45",
   "metadata": {},
   "outputs": [],
   "source": [
    "from SparkAutoML.ml_module.preprocessing_module.preprocess_file import Preprocessor\n",
    "from pyspark.sql.types import FloatType\n",
    "from pyspark.sql.types import IntegerType"
   ]
  },
  {
   "cell_type": "code",
   "execution_count": 3,
   "id": "e07e151a-dcae-454b-9809-18a2322c8430",
   "metadata": {},
   "outputs": [],
   "source": [
    "# read data \n",
    "df = ps.read_csv(\"credit.csv\")"
   ]
  },
  {
   "cell_type": "code",
   "execution_count": 4,
   "id": "1eca9b8b-5dbd-4cd8-b961-71f8c6284cab",
   "metadata": {},
   "outputs": [
    {
     "data": {
      "text/plain": [
       "Index(['LIMIT_BAL', 'SEX', 'EDUCATION', 'MARRIAGE', 'AGE', 'PAY_1', 'PAY_2',\n",
       "       'PAY_3', 'PAY_4', 'PAY_5', 'PAY_6', 'BILL_AMT1', 'BILL_AMT2',\n",
       "       'BILL_AMT3', 'BILL_AMT4', 'BILL_AMT5', 'BILL_AMT6', 'PAY_AMT1',\n",
       "       'PAY_AMT2', 'PAY_AMT3', 'PAY_AMT4', 'PAY_AMT5', 'PAY_AMT6', 'default'],\n",
       "      dtype='object')"
      ]
     },
     "execution_count": 4,
     "metadata": {},
     "output_type": "execute_result"
    }
   ],
   "source": [
    "df.columns"
   ]
  },
  {
   "cell_type": "code",
   "execution_count": 5,
   "id": "cd56852e-d2e5-462c-b991-91a8fcd1c0f9",
   "metadata": {},
   "outputs": [],
   "source": [
    "#def bool_function(df:ks.DataFrame)->ks.DataFrame:\n",
    "def bool_function(df):\n",
    "  df =ps.sql(\"\"\"select *,\n",
    "  case when mean_bal > 50000 then 1 else 0 end as new_bol_sql\n",
    "  from {df}\"\"\")\n",
    "  return df"
   ]
  },
  {
   "cell_type": "code",
   "execution_count": 6,
   "id": "48b59b38-7b1a-4b74-a45f-dbee2d5a8842",
   "metadata": {},
   "outputs": [],
   "source": [
    "# that is how you can apply the full stack piping in koalas\n",
    "df= (\n",
    "df\n",
    "[['LIMIT_BAL', 'SEX', 'EDUCATION', 'MARRIAGE', 'AGE']]\n",
    ".pipe(lambda x: ps.sql(\"\"\" select * , case when LIMIT_BAL < 100000 then 'low' when LIMIT_BAL between 100000 and 200000 then 'medium' else 'high' end as BAL_CAT from {x}\"\"\"))\n",
    ".pipe(lambda x: ps.sql(\"\"\" select * , case when AGE < 30 then 'youth' when AGE between 30 and 40 then 'yong' else 'mature' end as maturity from {x}\"\"\"))\n",
    ")"
   ]
  },
  {
   "cell_type": "code",
   "execution_count": 7,
   "id": "c93721e1-b45c-4706-9857-6dd73ef61429",
   "metadata": {},
   "outputs": [
    {
     "data": {
      "text/html": [
       "<div>\n",
       "<style scoped>\n",
       "    .dataframe tbody tr th:only-of-type {\n",
       "        vertical-align: middle;\n",
       "    }\n",
       "\n",
       "    .dataframe tbody tr th {\n",
       "        vertical-align: top;\n",
       "    }\n",
       "\n",
       "    .dataframe thead th {\n",
       "        text-align: right;\n",
       "    }\n",
       "</style>\n",
       "<table border=\"1\" class=\"dataframe\">\n",
       "  <thead>\n",
       "    <tr style=\"text-align: right;\">\n",
       "      <th></th>\n",
       "      <th>LIMIT_BAL</th>\n",
       "      <th>SEX</th>\n",
       "      <th>EDUCATION</th>\n",
       "      <th>MARRIAGE</th>\n",
       "      <th>AGE</th>\n",
       "      <th>BAL_CAT</th>\n",
       "      <th>maturity</th>\n",
       "    </tr>\n",
       "  </thead>\n",
       "  <tbody>\n",
       "    <tr>\n",
       "      <th>0</th>\n",
       "      <td>20000</td>\n",
       "      <td>2</td>\n",
       "      <td>2</td>\n",
       "      <td>1</td>\n",
       "      <td>24</td>\n",
       "      <td>low</td>\n",
       "      <td>youth</td>\n",
       "    </tr>\n",
       "    <tr>\n",
       "      <th>1</th>\n",
       "      <td>90000</td>\n",
       "      <td>2</td>\n",
       "      <td>2</td>\n",
       "      <td>2</td>\n",
       "      <td>34</td>\n",
       "      <td>low</td>\n",
       "      <td>yong</td>\n",
       "    </tr>\n",
       "    <tr>\n",
       "      <th>2</th>\n",
       "      <td>50000</td>\n",
       "      <td>2</td>\n",
       "      <td>2</td>\n",
       "      <td>1</td>\n",
       "      <td>37</td>\n",
       "      <td>low</td>\n",
       "      <td>yong</td>\n",
       "    </tr>\n",
       "    <tr>\n",
       "      <th>3</th>\n",
       "      <td>50000</td>\n",
       "      <td>1</td>\n",
       "      <td>2</td>\n",
       "      <td>1</td>\n",
       "      <td>57</td>\n",
       "      <td>low</td>\n",
       "      <td>mature</td>\n",
       "    </tr>\n",
       "    <tr>\n",
       "      <th>4</th>\n",
       "      <td>50000</td>\n",
       "      <td>1</td>\n",
       "      <td>1</td>\n",
       "      <td>2</td>\n",
       "      <td>37</td>\n",
       "      <td>low</td>\n",
       "      <td>yong</td>\n",
       "    </tr>\n",
       "  </tbody>\n",
       "</table>\n",
       "</div>"
      ],
      "text/plain": [
       "   LIMIT_BAL  SEX  EDUCATION  MARRIAGE  AGE BAL_CAT maturity\n",
       "0      20000    2          2         1   24     low    youth\n",
       "1      90000    2          2         2   34     low     yong\n",
       "2      50000    2          2         1   37     low     yong\n",
       "3      50000    1          2         1   57     low   mature\n",
       "4      50000    1          1         2   37     low     yong"
      ]
     },
     "execution_count": 7,
     "metadata": {},
     "output_type": "execute_result"
    }
   ],
   "source": [
    "df.head()"
   ]
  },
  {
   "cell_type": "code",
   "execution_count": 166,
   "id": "c0194fe0-fa84-429d-856c-ee6a20571dae",
   "metadata": {},
   "outputs": [],
   "source": [
    "from pyspark.ml.feature import (\n",
    "    VectorAssembler,\n",
    "    VectorIndexer,\n",
    "    OneHotEncoder,\n",
    "    StringIndexer,\n",
    "    Imputer,\n",
    "    Normalizer,\n",
    "    StandardScaler,\n",
    ")\n",
    "from pyspark.ml import Pipeline"
   ]
  },
  {
   "cell_type": "code",
   "execution_count": 167,
   "id": "ba43d31e-11f2-449f-b700-2a274f005b65",
   "metadata": {},
   "outputs": [
    {
     "data": {
      "text/plain": [
       "StandardScaler_6c2c5d726524"
      ]
     },
     "execution_count": 167,
     "metadata": {},
     "output_type": "execute_result"
    }
   ],
   "source": [
    "StandardScaler()"
   ]
  },
  {
   "cell_type": "code",
   "execution_count": 9,
   "id": "145e0d8c-a169-4236-98b4-ea2f224681e3",
   "metadata": {},
   "outputs": [],
   "source": [
    "import numpy as np\n",
    "# df.iloc[0,4] = np.nan\n",
    "# df.AGE = df.AGE.astype(float)\n",
    "spark_df = df.to_spark()\n",
    "# spark_df = spark_df.withColumn('AGE', spark_df['AGE'].cast(IntegerType()))\n",
    "train,test = spark_df.randomSplit([.70,.30],seed=123)"
   ]
  },
  {
   "cell_type": "code",
   "execution_count": 10,
   "id": "80d334d4-53c1-4a1f-9c67-37de43693fa5",
   "metadata": {},
   "outputs": [
    {
     "data": {
      "text/plain": [
       "['LIMIT_BAL', 'SEX', 'EDUCATION', 'MARRIAGE', 'AGE', 'BAL_CAT', 'maturity']"
      ]
     },
     "execution_count": 10,
     "metadata": {},
     "output_type": "execute_result"
    }
   ],
   "source": [
    "spark_df.columns"
   ]
  },
  {
   "cell_type": "code",
   "execution_count": 182,
   "id": "a4c81f2f-58e2-4ebc-967f-e20de8fa4443",
   "metadata": {},
   "outputs": [],
   "source": [
    "def _pipe(num_cols,cat_cols=None, impute=False, impute_strategy='mean', normalize=False, normalize_p=2, \n",
    "          standard_scale =False,standard_scaler_withMean=False,standard_scaler_withStd=True,):\n",
    "    \n",
    "    # first we deploy imputer\n",
    "    if impute:\n",
    "        imputer = Imputer(inputCols=num_cols,outputCols=num_cols,strategy=impute_strategy)\n",
    "    else:\n",
    "        imputer = Connector()\n",
    "        \n",
    "    # we need Vector Assambler here anyway\n",
    "    assemble_numeric = VectorAssembler(inputCols=num_cols,outputCol='numeric_features')\n",
    "    \n",
    "    # if we need normalizer\n",
    "    if normalize:\n",
    "        normalizer = Normalizer(inputCol='numeric_features',outputCol='numeric_features1')\n",
    "        column_handler1 = ColumnHandler()\n",
    "    else:\n",
    "        normalizer = Connector()\n",
    "        column_handler1 = Connector()\n",
    "    \n",
    "    # standard scaller\n",
    "    if standard_scale:\n",
    "        standard_scaler = StandardScaler(inputCol='numeric_features',outputCol='numeric_features1',\n",
    "                                        withMean=standard_scaler_withMean,withStd=standard_scaler_withStd)\n",
    "        column_handler2 = ColumnHandler()\n",
    "    else:\n",
    "        standard_scaler = Connector()\n",
    "        column_handler2 = Connector()\n",
    "        \n",
    "        \n",
    "        \n",
    "        \n",
    "        \n",
    "    \n",
    "    \n",
    "    p = Pipeline(stages=[imputer,assemble_numeric,normalizer,column_handler1,standard_scaler,column_handler2])\n",
    "    \n",
    "    return p\n",
    "    "
   ]
  },
  {
   "cell_type": "code",
   "execution_count": 188,
   "id": "bcb837cd-a493-4879-bdb2-d1f85fc8eb94",
   "metadata": {},
   "outputs": [
    {
     "name": "stdout",
     "output_type": "stream",
     "text": [
      "+---------+---+---------+--------+---+-------+--------+----------------+\n",
      "|LIMIT_BAL|SEX|EDUCATION|MARRIAGE|AGE|BAL_CAT|maturity|numeric_features|\n",
      "+---------+---+---------+--------+---+-------+--------+----------------+\n",
      "|    20000|  2|        2|       1| 24|    low|   youth|      [24.0,2.0]|\n",
      "|    90000|  2|        2|       2| 34|    low|    yong|      [34.0,2.0]|\n",
      "|    50000|  2|        2|       1| 37|    low|    yong|      [37.0,2.0]|\n",
      "|    50000|  1|        2|       1| 57|    low|  mature|      [57.0,1.0]|\n",
      "|    50000|  1|        1|       2| 37|    low|    yong|      [37.0,1.0]|\n",
      "|   100000|  2|        2|       2| 23| medium|   youth|      [23.0,2.0]|\n",
      "|   140000|  2|        3|       1| 28| medium|   youth|      [28.0,2.0]|\n",
      "|    20000|  1|        3|       2| 35|    low|    yong|      [35.0,1.0]|\n",
      "|   200000|  2|        3|       2| 34| medium|    yong|      [34.0,2.0]|\n",
      "|   260000|  2|        1|       2| 51|   high|  mature|      [51.0,2.0]|\n",
      "|   630000|  2|        2|       2| 41|   high|  mature|      [41.0,2.0]|\n",
      "|   250000|  1|        1|       2| 29|   high|   youth|      [29.0,1.0]|\n",
      "|    50000|  2|        3|       3| 23|    low|   youth|      [23.0,2.0]|\n",
      "|    20000|  1|        1|       2| 24|    low|   youth|      [24.0,1.0]|\n",
      "|   320000|  1|        1|       1| 49|   high|  mature|      [49.0,1.0]|\n",
      "|   360000|  2|        1|       1| 49|   high|  mature|      [49.0,2.0]|\n",
      "|   180000|  2|        1|       2| 29| medium|   youth|      [29.0,2.0]|\n",
      "|   130000|  2|        3|       2| 39| medium|    yong|      [39.0,2.0]|\n",
      "|    70000|  2|        2|       2| 26|    low|   youth|      [26.0,2.0]|\n",
      "|   450000|  2|        1|       1| 40|   high|    yong|      [40.0,2.0]|\n",
      "+---------+---+---------+--------+---+-------+--------+----------------+\n",
      "only showing top 20 rows\n",
      "\n"
     ]
    }
   ],
   "source": [
    "# imp = Imputer(inputCols=['AGE','SEX'],outputCols=['AGE','SEX'])\n",
    "# assmb = VectorAssembler(inputCols=['AGE','SEX'],outputCol='features')\n",
    "# norm = nnormalizer()\n",
    "# # assmb2 = VectorAssembler(inputCols=['features1'],outputCol='features2')\n",
    "# pipe = Pipeline(stages = [imp])\n",
    "\n",
    "\n",
    "pipe = _pipe(num_cols=['AGE','SEX'],cat_cols=None,impute=False,impute_strategy='mean',normalize=False,normalize_p=2,standard_scale=False)\n",
    "fitted = pipe.fit(spark_df)\n",
    "fitted.transform(spark_df).show()"
   ]
  },
  {
   "cell_type": "code",
   "execution_count": 28,
   "id": "194a624b-c8ad-47ba-b1ef-0799e5386d77",
   "metadata": {},
   "outputs": [],
   "source": [
    "pipe = Preprocessor(training_data=train\n",
    "                     ,hold_out_data=test,\n",
    "                     target_feature='LIMIT_BAL',\n",
    "                     numeric_features= ['AGE','SEX'],\n",
    "                     categorical_features=[\"BAL_CAT\",\"maturity\"],\n",
    "                     impute_missing_values=True, missing_value_strategy=\"mean\",\n",
    "                     normalize= True,\n",
    "                     standard_scale=True\n",
    "                      )"
   ]
  },
  {
   "cell_type": "code",
   "execution_count": 29,
   "id": "11fabe40-3740-4d42-98d6-8e503db6faf5",
   "metadata": {},
   "outputs": [],
   "source": [
    "pipe.run_pipeline()"
   ]
  },
  {
   "cell_type": "code",
   "execution_count": 30,
   "id": "2f982626",
   "metadata": {},
   "outputs": [],
   "source": [
    "pipe.fit_transform()"
   ]
  },
  {
   "cell_type": "code",
   "execution_count": 31,
   "id": "9bb44cb0-6dc0-4109-87bc-50f1d1506c15",
   "metadata": {},
   "outputs": [
    {
     "name": "stdout",
     "output_type": "stream",
     "text": [
      "+---------+---+---------+--------+---+-------+--------+--------------------+\n",
      "|LIMIT_BAL|SEX|EDUCATION|MARRIAGE|AGE|BAL_CAT|maturity|    numeric_features|\n",
      "+---------+---+---------+--------+---+-------+--------+--------------------+\n",
      "|  10000.0|  1|        1|       1| 38|    low|    yong|[954.733573425178...|\n",
      "|  10000.0|  1|        1|       1| 40|    low|    yong|[954.765784924959...|\n",
      "|  10000.0|  1|        1|       1| 48|    low|  mature|[954.856907896601...|\n",
      "|  10000.0|  1|        1|       1| 50|    low|  mature|[954.873147092114...|\n",
      "|  10000.0|  1|        1|       2| 22|    low|   youth|[954.078992409441...|\n",
      "|  10000.0|  1|        1|       2| 22|    low|   youth|[954.078992409441...|\n",
      "|  10000.0|  1|        1|       2| 23|    low|   youth|[954.162673354240...|\n",
      "|  10000.0|  1|        1|       2| 23|    low|   youth|[954.162673354240...|\n",
      "|  10000.0|  1|        1|       2| 23|    low|   youth|[954.162673354240...|\n",
      "|  10000.0|  1|        1|       2| 23|    low|   youth|[954.162673354240...|\n",
      "|  10000.0|  1|        1|       2| 24|    low|   youth|[954.236131858791...|\n",
      "|  10000.0|  1|        1|       2| 24|    low|   youth|[954.236131858791...|\n",
      "|  10000.0|  1|        1|       2| 24|    low|   youth|[954.236131858791...|\n",
      "|  10000.0|  1|        1|       2| 24|    low|   youth|[954.236131858791...|\n",
      "|  10000.0|  1|        1|       2| 25|    low|   youth|[954.300966986551...|\n",
      "|  10000.0|  1|        1|       2| 25|    low|   youth|[954.300966986551...|\n",
      "|  10000.0|  1|        1|       2| 25|    low|   youth|[954.300966986551...|\n",
      "|  10000.0|  1|        1|       2| 26|    low|   youth|[954.358477040145...|\n",
      "|  10000.0|  1|        1|       2| 27|    low|   youth|[954.409724954194...|\n",
      "|  10000.0|  1|        1|       2| 29|    low|   youth|[954.496793933561...|\n",
      "+---------+---+---------+--------+---+-------+--------+--------------------+\n",
      "only showing top 20 rows\n",
      "\n"
     ]
    }
   ],
   "source": [
    "pipe.train_data_transformed.show()"
   ]
  },
  {
   "cell_type": "code",
   "execution_count": 50,
   "id": "31cdc86a-b0a6-4149-a405-852adfa6591e",
   "metadata": {},
   "outputs": [],
   "source": [
    "class parent():\n",
    "    def __init__(self,arga,argb):\n",
    "        self.arga = arga\n",
    "        self.argb = argb\n",
    "        print (\"running parent\")\n",
    "        return None"
   ]
  },
  {
   "cell_type": "code",
   "execution_count": 56,
   "id": "52f67795-bcdb-407e-afa5-3e0d0bb7876f",
   "metadata": {},
   "outputs": [],
   "source": [
    "class child(parent):\n",
    "    def __init__(self, super):\n",
    "        \n",
    "        print (\"running child\")"
   ]
  },
  {
   "cell_type": "code",
   "execution_count": 57,
   "id": "3b5da278-5eb3-4c4c-8199-973660e8cd8c",
   "metadata": {},
   "outputs": [
    {
     "ename": "TypeError",
     "evalue": "__init__() got an unexpected keyword argument 'arga'",
     "output_type": "error",
     "traceback": [
      "\u001b[0;31m---------------------------------------------------------------------------\u001b[0m",
      "\u001b[0;31mTypeError\u001b[0m                                 Traceback (most recent call last)",
      "Input \u001b[0;32mIn [57]\u001b[0m, in \u001b[0;36m<cell line: 1>\u001b[0;34m()\u001b[0m\n\u001b[0;32m----> 1\u001b[0m c \u001b[38;5;241m=\u001b[39m \u001b[43mchild\u001b[49m\u001b[43m(\u001b[49m\u001b[43marga\u001b[49m\u001b[38;5;241;43m=\u001b[39;49m\u001b[38;5;124;43m\"\u001b[39;49m\u001b[38;5;124;43ma\u001b[39;49m\u001b[38;5;124;43m\"\u001b[39;49m\u001b[43m,\u001b[49m\u001b[43margb\u001b[49m\u001b[38;5;241;43m=\u001b[39;49m\u001b[38;5;124;43m\"\u001b[39;49m\u001b[38;5;124;43mb\u001b[39;49m\u001b[38;5;124;43m\"\u001b[39;49m\u001b[43m)\u001b[49m\n",
      "\u001b[0;31mTypeError\u001b[0m: __init__() got an unexpected keyword argument 'arga'"
     ]
    }
   ],
   "source": [
    "c = child(arga=\"a\",argb=\"b\")"
   ]
  },
  {
   "cell_type": "code",
   "execution_count": 49,
   "id": "11f8cda1-9151-4daf-9165-64391a016ce6",
   "metadata": {},
   "outputs": [
    {
     "ename": "AttributeError",
     "evalue": "'child' object has no attribute 'arga'",
     "output_type": "error",
     "traceback": [
      "\u001b[0;31m---------------------------------------------------------------------------\u001b[0m",
      "\u001b[0;31mAttributeError\u001b[0m                            Traceback (most recent call last)",
      "Input \u001b[0;32mIn [49]\u001b[0m, in \u001b[0;36m<cell line: 1>\u001b[0;34m()\u001b[0m\n\u001b[0;32m----> 1\u001b[0m \u001b[43mc\u001b[49m\u001b[38;5;241;43m.\u001b[39;49m\u001b[43marga\u001b[49m\n",
      "\u001b[0;31mAttributeError\u001b[0m: 'child' object has no attribute 'arga'"
     ]
    }
   ],
   "source": [
    "c.arga"
   ]
  },
  {
   "cell_type": "code",
   "execution_count": null,
   "id": "071a759e-7fa4-42ef-8090-cc53adf4b598",
   "metadata": {},
   "outputs": [],
   "source": []
  }
 ],
 "metadata": {
  "interpreter": {
   "hash": "32692823d3109f5bd75447dae6e1c6d928fc2410e760df9aa7f12324a979215b"
  },
  "kernelspec": {
   "display_name": "Python [conda env:SparkAutoML] *",
   "language": "python",
   "name": "python3"
  },
  "language_info": {
   "codemirror_mode": {
    "name": "ipython",
    "version": 3
   },
   "file_extension": ".py",
   "mimetype": "text/x-python",
   "name": "python",
   "nbconvert_exporter": "python",
   "pygments_lexer": "ipython3",
   "version": "3.9.7"
  }
 },
 "nbformat": 4,
 "nbformat_minor": 5
}
