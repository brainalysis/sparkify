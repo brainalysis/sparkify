{
 "cells": [
  {
   "cell_type": "code",
   "execution_count": 1,
   "id": "8e2b7568-a569-48be-89ec-28bd003dd61e",
   "metadata": {},
   "outputs": [
    {
     "name": "stderr",
     "output_type": "stream",
     "text": [
      "WARNING:root:'PYARROW_IGNORE_TIMEZONE' environment variable was not set. It is required to set this environment variable to '1' in both driver and executor sides if you use pyarrow>=2.0.0. pandas-on-Spark will set it for you but it does not work if there is a Spark context already launched.\n"
     ]
    }
   ],
   "source": [
    "from typing import List\n",
    "# from databricks import koalas as ks , we do not neven need koalsa, because it is now built in with databricks\n",
    "import pyspark.pandas as ps\n",
    "from pyspark.sql import DataFrame as SparkDataFrame\n",
    "\n",
    "from pyspark.ml.feature import VectorAssembler,VectorIndexer,OneHotEncoder,StringIndexer\n",
    "from pyspark.ml import Pipeline "
   ]
  },
  {
   "cell_type": "code",
   "execution_count": 2,
   "id": "9b8ed131-f16c-43a9-ba98-355454cddc45",
   "metadata": {},
   "outputs": [],
   "source": [
    "from SparkAutoML.ml_module.preprocessing_module.preprocess_file import Preprocessor"
   ]
  },
  {
   "cell_type": "code",
   "execution_count": 3,
   "id": "e07e151a-dcae-454b-9809-18a2322c8430",
   "metadata": {},
   "outputs": [],
   "source": [
    "# read data \n",
    "df = ps.read_csv(\"credit.csv\")"
   ]
  },
  {
   "cell_type": "code",
   "execution_count": 4,
   "id": "1eca9b8b-5dbd-4cd8-b961-71f8c6284cab",
   "metadata": {},
   "outputs": [
    {
     "data": {
      "text/plain": [
       "Index(['LIMIT_BAL', 'SEX', 'EDUCATION', 'MARRIAGE', 'AGE', 'PAY_1', 'PAY_2',\n",
       "       'PAY_3', 'PAY_4', 'PAY_5', 'PAY_6', 'BILL_AMT1', 'BILL_AMT2',\n",
       "       'BILL_AMT3', 'BILL_AMT4', 'BILL_AMT5', 'BILL_AMT6', 'PAY_AMT1',\n",
       "       'PAY_AMT2', 'PAY_AMT3', 'PAY_AMT4', 'PAY_AMT5', 'PAY_AMT6', 'default'],\n",
       "      dtype='object')"
      ]
     },
     "execution_count": 4,
     "metadata": {},
     "output_type": "execute_result"
    }
   ],
   "source": [
    "df.columns"
   ]
  },
  {
   "cell_type": "code",
   "execution_count": 5,
   "id": "cd56852e-d2e5-462c-b991-91a8fcd1c0f9",
   "metadata": {},
   "outputs": [],
   "source": [
    "#def bool_function(df:ks.DataFrame)->ks.DataFrame:\n",
    "def bool_function(df):\n",
    "  df =ps.sql(\"\"\"select *,\n",
    "  case when mean_bal > 50000 then 1 else 0 end as new_bol_sql\n",
    "  from {df}\"\"\")\n",
    "  return df"
   ]
  },
  {
   "cell_type": "code",
   "execution_count": 6,
   "id": "48b59b38-7b1a-4b74-a45f-dbee2d5a8842",
   "metadata": {},
   "outputs": [],
   "source": [
    "# that is how you can apply the full stack piping in koalas\n",
    "df= (\n",
    "df\n",
    "[['LIMIT_BAL', 'SEX', 'EDUCATION', 'MARRIAGE', 'AGE','default']]\n",
    ".pipe(lambda x: ps.sql(\"\"\" select * , case when LIMIT_BAL < 100000 then 'low' when LIMIT_BAL between 100000 and 200000 then 'medium' else 'high' end as BAL_CAT from {x}\"\"\"))\n",
    ".pipe(lambda x: ps.sql(\"\"\" select * , case when AGE < 30 then 'youth' when AGE between 30 and 40 then 'yong' else 'mature' end as maturity from {x}\"\"\"))\n",
    ")"
   ]
  },
  {
   "cell_type": "code",
   "execution_count": 7,
   "id": "c93721e1-b45c-4706-9857-6dd73ef61429",
   "metadata": {},
   "outputs": [
    {
     "data": {
      "text/html": [
       "<div>\n",
       "<style scoped>\n",
       "    .dataframe tbody tr th:only-of-type {\n",
       "        vertical-align: middle;\n",
       "    }\n",
       "\n",
       "    .dataframe tbody tr th {\n",
       "        vertical-align: top;\n",
       "    }\n",
       "\n",
       "    .dataframe thead th {\n",
       "        text-align: right;\n",
       "    }\n",
       "</style>\n",
       "<table border=\"1\" class=\"dataframe\">\n",
       "  <thead>\n",
       "    <tr style=\"text-align: right;\">\n",
       "      <th></th>\n",
       "      <th>LIMIT_BAL</th>\n",
       "      <th>SEX</th>\n",
       "      <th>EDUCATION</th>\n",
       "      <th>MARRIAGE</th>\n",
       "      <th>AGE</th>\n",
       "      <th>default</th>\n",
       "      <th>BAL_CAT</th>\n",
       "      <th>maturity</th>\n",
       "    </tr>\n",
       "  </thead>\n",
       "  <tbody>\n",
       "    <tr>\n",
       "      <th>0</th>\n",
       "      <td>20000</td>\n",
       "      <td>2</td>\n",
       "      <td>2</td>\n",
       "      <td>1</td>\n",
       "      <td>24</td>\n",
       "      <td>1</td>\n",
       "      <td>low</td>\n",
       "      <td>youth</td>\n",
       "    </tr>\n",
       "    <tr>\n",
       "      <th>1</th>\n",
       "      <td>90000</td>\n",
       "      <td>2</td>\n",
       "      <td>2</td>\n",
       "      <td>2</td>\n",
       "      <td>34</td>\n",
       "      <td>0</td>\n",
       "      <td>low</td>\n",
       "      <td>yong</td>\n",
       "    </tr>\n",
       "    <tr>\n",
       "      <th>2</th>\n",
       "      <td>50000</td>\n",
       "      <td>2</td>\n",
       "      <td>2</td>\n",
       "      <td>1</td>\n",
       "      <td>37</td>\n",
       "      <td>0</td>\n",
       "      <td>low</td>\n",
       "      <td>yong</td>\n",
       "    </tr>\n",
       "    <tr>\n",
       "      <th>3</th>\n",
       "      <td>50000</td>\n",
       "      <td>1</td>\n",
       "      <td>2</td>\n",
       "      <td>1</td>\n",
       "      <td>57</td>\n",
       "      <td>0</td>\n",
       "      <td>low</td>\n",
       "      <td>mature</td>\n",
       "    </tr>\n",
       "    <tr>\n",
       "      <th>4</th>\n",
       "      <td>50000</td>\n",
       "      <td>1</td>\n",
       "      <td>1</td>\n",
       "      <td>2</td>\n",
       "      <td>37</td>\n",
       "      <td>0</td>\n",
       "      <td>low</td>\n",
       "      <td>yong</td>\n",
       "    </tr>\n",
       "  </tbody>\n",
       "</table>\n",
       "</div>"
      ],
      "text/plain": [
       "   LIMIT_BAL  SEX  EDUCATION  MARRIAGE  AGE  default BAL_CAT maturity\n",
       "0      20000    2          2         1   24        1     low    youth\n",
       "1      90000    2          2         2   34        0     low     yong\n",
       "2      50000    2          2         1   37        0     low     yong\n",
       "3      50000    1          2         1   57        0     low   mature\n",
       "4      50000    1          1         2   37        0     low     yong"
      ]
     },
     "execution_count": 7,
     "metadata": {},
     "output_type": "execute_result"
    }
   ],
   "source": [
    "df.head()"
   ]
  },
  {
   "cell_type": "code",
   "execution_count": 8,
   "id": "145e0d8c-a169-4236-98b4-ea2f224681e3",
   "metadata": {},
   "outputs": [],
   "source": [
    "spark_df = df.to_spark()\n",
    "train,test = spark_df.randomSplit([.70,.30],seed=123)"
   ]
  },
  {
   "cell_type": "code",
   "execution_count": 9,
   "id": "194a624b-c8ad-47ba-b1ef-0799e5386d77",
   "metadata": {},
   "outputs": [],
   "source": [
    "# pipe = Preprocessor(training_data=train\n",
    "#                      ,hold_out_data=test,\n",
    "#                      target_feature='default',\n",
    "#                      numeric_features= ['LIMIT_BAL',],\n",
    "#                      categorical_features=[\"BAL_CAT\",\"maturity\"],\n",
    "#                      impute_missing_values=True, missing_value_strategy=\"mean\",\n",
    "#                       )"
   ]
  },
  {
   "cell_type": "code",
   "execution_count": 10,
   "id": "11fabe40-3740-4d42-98d6-8e503db6faf5",
   "metadata": {},
   "outputs": [],
   "source": [
    "# pipe.run_pipeline()"
   ]
  },
  {
   "cell_type": "code",
   "execution_count": 11,
   "id": "9bb44cb0-6dc0-4109-87bc-50f1d1506c15",
   "metadata": {},
   "outputs": [],
   "source": [
    "# pipe.train_data_transformed.show()"
   ]
  },
  {
   "cell_type": "code",
   "execution_count": 12,
   "id": "071a759e-7fa4-42ef-8090-cc53adf4b598",
   "metadata": {},
   "outputs": [],
   "source": [
    "from SparkAutoML.ml_module.BinaryClassifier_module.classifier_file import BClassifier"
   ]
  },
  {
   "cell_type": "code",
   "execution_count": 13,
   "id": "44d39229-b2a1-4c84-a38d-3e95e259b46b",
   "metadata": {},
   "outputs": [],
   "source": [
    "cf = BClassifier(\n",
    "                     training_data=train, # provide training data\n",
    "                     hold_out_data=test, # provide hold out data\n",
    "                     target_feature='default', # provide target label\n",
    "                     numeric_features= ['LIMIT_BAL'], # identify numeric features\n",
    "                     categorical_features=[\"BAL_CAT\",\"maturity\"], # identify categorical \n",
    "                     impute_missing_values=False, missing_value_strategy=\"mean\",\n",
    "                    )"
   ]
  },
  {
   "cell_type": "code",
   "execution_count": 14,
   "id": "fca49b56-1c69-4e4c-9d72-f15c01d280c2",
   "metadata": {},
   "outputs": [
    {
     "name": "stdout",
     "output_type": "stream",
     "text": [
      "Training started for lrc ....\n",
      "Training successfully ended for lrc ....\n"
     ]
    }
   ],
   "source": [
    "cf.create_model('lrc') # you can check the features by claiing cf.hold_out_data_transformed.select(\"features\").show()\n",
    "# cf.create_model('rfc')"
   ]
  },
  {
   "cell_type": "code",
   "execution_count": 15,
   "id": "d0ccb23a-9a79-4fc9-ab08-0b780bfcddf5",
   "metadata": {},
   "outputs": [
    {
     "data": {
      "text/html": [
       "<div>\n",
       "<style scoped>\n",
       "    .dataframe tbody tr th:only-of-type {\n",
       "        vertical-align: middle;\n",
       "    }\n",
       "\n",
       "    .dataframe tbody tr th {\n",
       "        vertical-align: top;\n",
       "    }\n",
       "\n",
       "    .dataframe thead th {\n",
       "        text-align: right;\n",
       "    }\n",
       "</style>\n",
       "<table border=\"1\" class=\"dataframe\">\n",
       "  <thead>\n",
       "    <tr style=\"text-align: right;\">\n",
       "      <th></th>\n",
       "      <th>model</th>\n",
       "      <th>type</th>\n",
       "      <th>auc</th>\n",
       "      <th>accuracy</th>\n",
       "      <th>weighted_precision</th>\n",
       "      <th>weighted_recall</th>\n",
       "      <th>f1</th>\n",
       "    </tr>\n",
       "  </thead>\n",
       "  <tbody>\n",
       "    <tr>\n",
       "      <th>0</th>\n",
       "      <td>lrc</td>\n",
       "      <td>train</td>\n",
       "      <td>0.615803</td>\n",
       "      <td>0.776654</td>\n",
       "      <td>1.0</td>\n",
       "      <td>0.776654</td>\n",
       "      <td>0.874288</td>\n",
       "    </tr>\n",
       "  </tbody>\n",
       "</table>\n",
       "</div>"
      ],
      "text/plain": [
       "  model   type       auc  accuracy  weighted_precision  weighted_recall        f1\n",
       "0   lrc  train  0.615803  0.776654                 1.0         0.776654  0.874288"
      ]
     },
     "execution_count": 15,
     "metadata": {},
     "output_type": "execute_result"
    }
   ],
   "source": [
    "cf.evaluate_model()"
   ]
  },
  {
   "cell_type": "code",
   "execution_count": 16,
   "id": "d0cd8f89-1cb2-4c86-8012-c0b1980238ba",
   "metadata": {},
   "outputs": [
    {
     "data": {
      "text/html": [
       "<div>\n",
       "<style scoped>\n",
       "    .dataframe tbody tr th:only-of-type {\n",
       "        vertical-align: middle;\n",
       "    }\n",
       "\n",
       "    .dataframe tbody tr th {\n",
       "        vertical-align: top;\n",
       "    }\n",
       "\n",
       "    .dataframe thead th {\n",
       "        text-align: right;\n",
       "    }\n",
       "</style>\n",
       "<table border=\"1\" class=\"dataframe\">\n",
       "  <thead>\n",
       "    <tr style=\"text-align: right;\">\n",
       "      <th></th>\n",
       "      <th>model</th>\n",
       "      <th>type</th>\n",
       "      <th>auc</th>\n",
       "      <th>accuracy</th>\n",
       "      <th>weighted_precision</th>\n",
       "      <th>weighted_recall</th>\n",
       "      <th>f1</th>\n",
       "    </tr>\n",
       "  </thead>\n",
       "  <tbody>\n",
       "    <tr>\n",
       "      <th>0</th>\n",
       "      <td>lrc</td>\n",
       "      <td>holdout</td>\n",
       "      <td>0.611009</td>\n",
       "      <td>0.784099</td>\n",
       "      <td>1.0</td>\n",
       "      <td>0.784099</td>\n",
       "      <td>0.878986</td>\n",
       "    </tr>\n",
       "  </tbody>\n",
       "</table>\n",
       "</div>"
      ],
      "text/plain": [
       "  model     type       auc  accuracy  weighted_precision  weighted_recall        f1\n",
       "0   lrc  holdout  0.611009  0.784099                 1.0         0.784099  0.878986"
      ]
     },
     "execution_count": 16,
     "metadata": {},
     "output_type": "execute_result"
    }
   ],
   "source": [
    "cf.evaluate_model(evaluate_on=\"holdout\",)"
   ]
  },
  {
   "cell_type": "code",
   "execution_count": 17,
   "id": "d0368948-847c-4273-9537-03ecf8743968",
   "metadata": {},
   "outputs": [
    {
     "name": "stdout",
     "output_type": "stream",
     "text": [
      "Training started for lrc ....\n",
      "Training successfully ended for lrc ....\n",
      "Training started for rfc ....\n",
      "Training successfully ended for rfc ....\n",
      "Training started for gbc ....\n",
      "Training successfully ended for gbc ....\n",
      "Training started for dtc ....\n",
      "Training successfully ended for dtc ....\n",
      "Training started for mlpc ....\n",
      "Training started for svc ....\n",
      "Training successfully ended for svc ....\n",
      "Training started for nbc ....\n",
      "Training successfully ended for nbc ....\n",
      "Training started for fmc ....\n",
      "Training successfully ended for fmc ....\n"
     ]
    },
    {
     "data": {
      "text/html": [
       "<div>\n",
       "<style scoped>\n",
       "    .dataframe tbody tr th:only-of-type {\n",
       "        vertical-align: middle;\n",
       "    }\n",
       "\n",
       "    .dataframe tbody tr th {\n",
       "        vertical-align: top;\n",
       "    }\n",
       "\n",
       "    .dataframe thead th {\n",
       "        text-align: right;\n",
       "    }\n",
       "</style>\n",
       "<table border=\"1\" class=\"dataframe\">\n",
       "  <thead>\n",
       "    <tr style=\"text-align: right;\">\n",
       "      <th></th>\n",
       "      <th>model</th>\n",
       "      <th>type</th>\n",
       "      <th>auc</th>\n",
       "      <th>accuracy</th>\n",
       "      <th>weighted_precision</th>\n",
       "      <th>weighted_recall</th>\n",
       "      <th>f1</th>\n",
       "    </tr>\n",
       "  </thead>\n",
       "  <tbody>\n",
       "    <tr>\n",
       "      <th>5</th>\n",
       "      <td>nbc</td>\n",
       "      <td>holdout</td>\n",
       "      <td>0.612088</td>\n",
       "      <td>0.784099</td>\n",
       "      <td>1.000000</td>\n",
       "      <td>0.784099</td>\n",
       "      <td>0.878986</td>\n",
       "    </tr>\n",
       "    <tr>\n",
       "      <th>2</th>\n",
       "      <td>gbc</td>\n",
       "      <td>holdout</td>\n",
       "      <td>0.611606</td>\n",
       "      <td>0.782865</td>\n",
       "      <td>0.984402</td>\n",
       "      <td>0.782865</td>\n",
       "      <td>0.869928</td>\n",
       "    </tr>\n",
       "    <tr>\n",
       "      <th>0</th>\n",
       "      <td>lrc</td>\n",
       "      <td>holdout</td>\n",
       "      <td>0.611009</td>\n",
       "      <td>0.784099</td>\n",
       "      <td>1.000000</td>\n",
       "      <td>0.784099</td>\n",
       "      <td>0.878986</td>\n",
       "    </tr>\n",
       "    <tr>\n",
       "      <th>1</th>\n",
       "      <td>rfc</td>\n",
       "      <td>holdout</td>\n",
       "      <td>0.609196</td>\n",
       "      <td>0.784099</td>\n",
       "      <td>1.000000</td>\n",
       "      <td>0.784099</td>\n",
       "      <td>0.878986</td>\n",
       "    </tr>\n",
       "    <tr>\n",
       "      <th>4</th>\n",
       "      <td>svc</td>\n",
       "      <td>holdout</td>\n",
       "      <td>0.584645</td>\n",
       "      <td>0.784099</td>\n",
       "      <td>1.000000</td>\n",
       "      <td>0.784099</td>\n",
       "      <td>0.878986</td>\n",
       "    </tr>\n",
       "    <tr>\n",
       "      <th>6</th>\n",
       "      <td>fmc</td>\n",
       "      <td>holdout</td>\n",
       "      <td>0.493013</td>\n",
       "      <td>0.573406</td>\n",
       "      <td>0.530346</td>\n",
       "      <td>0.573406</td>\n",
       "      <td>0.546073</td>\n",
       "    </tr>\n",
       "    <tr>\n",
       "      <th>3</th>\n",
       "      <td>dtc</td>\n",
       "      <td>holdout</td>\n",
       "      <td>0.402557</td>\n",
       "      <td>0.782865</td>\n",
       "      <td>0.984402</td>\n",
       "      <td>0.782865</td>\n",
       "      <td>0.869928</td>\n",
       "    </tr>\n",
       "  </tbody>\n",
       "</table>\n",
       "</div>"
      ],
      "text/plain": [
       "  model     type       auc  accuracy  weighted_precision  weighted_recall        f1\n",
       "5   nbc  holdout  0.612088  0.784099            1.000000         0.784099  0.878986\n",
       "2   gbc  holdout  0.611606  0.782865            0.984402         0.782865  0.869928\n",
       "0   lrc  holdout  0.611009  0.784099            1.000000         0.784099  0.878986\n",
       "1   rfc  holdout  0.609196  0.784099            1.000000         0.784099  0.878986\n",
       "4   svc  holdout  0.584645  0.784099            1.000000         0.784099  0.878986\n",
       "6   fmc  holdout  0.493013  0.573406            0.530346         0.573406  0.546073\n",
       "3   dtc  holdout  0.402557  0.782865            0.984402         0.782865  0.869928"
      ]
     },
     "execution_count": 17,
     "metadata": {},
     "output_type": "execute_result"
    }
   ],
   "source": [
    "cf.compare_models()"
   ]
  },
  {
   "cell_type": "code",
   "execution_count": 21,
   "id": "748a4fbb-3a86-4f96-9058-814e8df3945b",
   "metadata": {},
   "outputs": [
    {
     "data": {
      "text/plain": [
       "[StringIndexerModel: uid=StringIndexer_f1bd6b3a513a, handleInvalid=error, numInputCols=2, numOutputCols=2,\n",
       " OneHotEncoderModel: uid=OneHotEncoder_784bc268af8f, dropLast=false, handleInvalid=error, numInputCols=2, numOutputCols=2,\n",
       " VectorAssembler_69a35607a3c0,\n",
       " NaiveBayesModel: uid=NaiveBayes_7daad133561d, modelType=multinomial, numClasses=2, numFeatures=7]"
      ]
     },
     "execution_count": 21,
     "metadata": {},
     "output_type": "execute_result"
    }
   ],
   "source": [
    "cf.fitted_pipeline.stages"
   ]
  },
  {
   "cell_type": "code",
   "execution_count": null,
   "id": "a7aba6c2-1577-48df-b378-e24a11878b97",
   "metadata": {},
   "outputs": [],
   "source": []
  }
 ],
 "metadata": {
  "kernelspec": {
   "display_name": "Python 3 (ipykernel)",
   "language": "python",
   "name": "python3"
  },
  "language_info": {
   "codemirror_mode": {
    "name": "ipython",
    "version": 3
   },
   "file_extension": ".py",
   "mimetype": "text/x-python",
   "name": "python",
   "nbconvert_exporter": "python",
   "pygments_lexer": "ipython3",
   "version": "3.9.10"
  }
 },
 "nbformat": 4,
 "nbformat_minor": 5
}
